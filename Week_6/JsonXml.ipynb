{
 "cells": [
  {
   "cell_type": "code",
   "execution_count": 1,
   "metadata": {},
   "outputs": [],
   "source": [
    "import json"
   ]
  },
  {
   "cell_type": "code",
   "execution_count": 11,
   "metadata": {},
   "outputs": [],
   "source": [
    "dataDicStr = '{\"이름\": \"홍길동\",\"나이\": 25,\"거주지\": \"서울\",\"신체정보\": {\"키\": 175.4, \"몸무게\": 71.2 },\"취미\":[\"등산\",\"자전거타기\",\"독서\"]}'"
   ]
  },
  {
   "cell_type": "code",
   "execution_count": 13,
   "metadata": {},
   "outputs": [
    {
     "data": {
      "text/plain": [
       "{'이름': '홍길동',\n",
       " '나이': 25,\n",
       " '거주지': '서울',\n",
       " '신체정보': {'키': 175.4, '몸무게': 71.2},\n",
       " '취미': ['등산', '자전거타기', '독서']}"
      ]
     },
     "execution_count": 13,
     "metadata": {},
     "output_type": "execute_result"
    }
   ],
   "source": [
    "jsonDict = json.loads(dataDicStr)\n",
    "jsonDict"
   ]
  },
  {
   "cell_type": "code",
   "execution_count": 17,
   "metadata": {},
   "outputs": [
    {
     "name": "stdout",
     "output_type": "stream",
     "text": [
      "홍길동\n",
      "25\n",
      "서울\n"
     ]
    }
   ],
   "source": [
    "print(jsonDict[\"이름\"])\n",
    "print(jsonDict[\"나이\"])\n",
    "print(jsonDict[\"거주지\"])"
   ]
  },
  {
   "cell_type": "code",
   "execution_count": 18,
   "metadata": {},
   "outputs": [],
   "source": [
    "import xmltodict"
   ]
  },
  {
   "cell_type": "code",
   "execution_count": 21,
   "metadata": {},
   "outputs": [],
   "source": [
    "xmlDataStr = \"\"\"<?xml version=\"1.0\" encoding=\"UTF-8\" ?>\n",
    "<사용자정보>\n",
    "<이름>홍길동</이름>\n",
    "<나이>25</나이>\n",
    "<거주지>서울</거주지>\n",
    "<신체정보>\n",
    "<키 unit=\"cm\">175.4</키>\n",
    "<몸무게 unit=\"kg\">71.2</몸무게>\n",
    "</신체정보>\n",
    "</사용자정보>\n",
    "\"\"\""
   ]
  },
  {
   "cell_type": "code",
   "execution_count": 26,
   "metadata": {},
   "outputs": [
    {
     "data": {
      "text/plain": [
       "OrderedDict([('사용자정보',\n",
       "              OrderedDict([('이름', '홍길동'),\n",
       "                           ('나이', '25'),\n",
       "                           ('거주지', '서울'),\n",
       "                           ('신체정보',\n",
       "                            OrderedDict([('키',\n",
       "                                          OrderedDict([('@unit', 'cm'),\n",
       "                                                       ('#text', '175.4')])),\n",
       "                                         ('몸무게',\n",
       "                                          OrderedDict([('@unit', 'kg'),\n",
       "                                                       ('#text',\n",
       "                                                        '71.2')]))]))]))])"
      ]
     },
     "execution_count": 26,
     "metadata": {},
     "output_type": "execute_result"
    }
   ],
   "source": [
    "xmlDict = xmltodict.parse(xmlDataStr, xml_attribs = True)\n",
    "xmlDict"
   ]
  },
  {
   "cell_type": "code",
   "execution_count": 31,
   "metadata": {},
   "outputs": [
    {
     "name": "stdout",
     "output_type": "stream",
     "text": [
      "홍길동\n",
      "25\n"
     ]
    }
   ],
   "source": [
    "print(xmlDict[\"사용자정보\"][\"이름\"])\n",
    "print(xmlDict[\"사용자정보\"][\"나이\"])"
   ]
  },
  {
   "cell_type": "code",
   "execution_count": 34,
   "metadata": {},
   "outputs": [],
   "source": [
    "import requests\n",
    "import json"
   ]
  },
  {
   "cell_type": "code",
   "execution_count": 35,
   "metadata": {},
   "outputs": [],
   "source": [
    "url = \"http://api.open-notify.org/iss-now.json\""
   ]
  },
  {
   "cell_type": "code",
   "execution_count": 38,
   "metadata": {},
   "outputs": [
    {
     "name": "stdout",
     "output_type": "stream",
     "text": [
      "{\"message\": \"success\", \"iss_position\": {\"latitude\": \"30.4811\", \"longitude\": \"49.3440\"}, \"timestamp\": 1570862053}\n"
     ]
    }
   ],
   "source": [
    "r = requests.get(url)\n",
    "print(r.text)"
   ]
  },
  {
   "cell_type": "code",
   "execution_count": 39,
   "metadata": {},
   "outputs": [
    {
     "data": {
      "text/plain": [
       "{'message': 'success',\n",
       " 'iss_position': {'latitude': '30.4811', 'longitude': '49.3440'},\n",
       " 'timestamp': 1570862053}"
      ]
     },
     "execution_count": 39,
     "metadata": {},
     "output_type": "execute_result"
    }
   ],
   "source": [
    "jsonDict = json.loads(r.text)\n",
    "jsonDict"
   ]
  },
  {
   "cell_type": "code",
   "execution_count": null,
   "metadata": {},
   "outputs": [],
   "source": []
  }
 ],
 "metadata": {
  "kernelspec": {
   "display_name": "Python 3",
   "language": "python",
   "name": "python3"
  },
  "language_info": {
   "codemirror_mode": {
    "name": "ipython",
    "version": 3
   },
   "file_extension": ".py",
   "mimetype": "text/x-python",
   "name": "python",
   "nbconvert_exporter": "python",
   "pygments_lexer": "ipython3",
   "version": "3.7.3"
  }
 },
 "nbformat": 4,
 "nbformat_minor": 2
}
