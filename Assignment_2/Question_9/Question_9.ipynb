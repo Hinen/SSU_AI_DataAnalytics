{
 "cells": [
  {
   "cell_type": "code",
   "execution_count": 9,
   "metadata": {},
   "outputs": [],
   "source": [
    "import pandas as pd\n",
    "import numpy as np\n",
    "import matplotlib as mpl\n",
    "import matplotlib.pyplot as plt\n",
    "\n",
    "mpl.rcParams[\"font.family\"] = \"Malgun Gothic\"\n",
    "mpl.rcParams[\"axes.unicode_minus\"] = False"
   ]
  },
  {
   "cell_type": "code",
   "execution_count": 10,
   "metadata": {},
   "outputs": [],
   "source": [
    "genderDic = {\n",
    "    \"연령\" : [\"0~10세\", \"11~20세\", \"21~30세\", \"31~40세\", \"41~50세\",\n",
    "           \"51~60세\", \"61~70세\", \"71~80세\", \"81~90세\", \"91~100세\"],\n",
    "    \"남\" : [5200, 5200, 11500, 10800, 10000,\n",
    "          8790, 6370, 3760, 1050, 20],\n",
    "    \"여\" : [5800, 5400, 10500, 11200, 10000,\n",
    "          10010, 6930, 4040, 1550, 370]\n",
    "}\n",
    "\n",
    "columnsList = [\"연령\", \"남\", \"여\"]"
   ]
  },
  {
   "cell_type": "code",
   "execution_count": 11,
   "metadata": {},
   "outputs": [
    {
     "data": {
      "text/html": [
       "<div>\n",
       "<style scoped>\n",
       "    .dataframe tbody tr th:only-of-type {\n",
       "        vertical-align: middle;\n",
       "    }\n",
       "\n",
       "    .dataframe tbody tr th {\n",
       "        vertical-align: top;\n",
       "    }\n",
       "\n",
       "    .dataframe thead th {\n",
       "        text-align: right;\n",
       "    }\n",
       "</style>\n",
       "<table border=\"1\" class=\"dataframe\">\n",
       "  <thead>\n",
       "    <tr style=\"text-align: right;\">\n",
       "      <th></th>\n",
       "      <th>남</th>\n",
       "      <th>여</th>\n",
       "    </tr>\n",
       "    <tr>\n",
       "      <th>연령</th>\n",
       "      <th></th>\n",
       "      <th></th>\n",
       "    </tr>\n",
       "  </thead>\n",
       "  <tbody>\n",
       "    <tr>\n",
       "      <th>0~10세</th>\n",
       "      <td>5200</td>\n",
       "      <td>5800</td>\n",
       "    </tr>\n",
       "    <tr>\n",
       "      <th>11~20세</th>\n",
       "      <td>5200</td>\n",
       "      <td>5400</td>\n",
       "    </tr>\n",
       "    <tr>\n",
       "      <th>21~30세</th>\n",
       "      <td>11500</td>\n",
       "      <td>10500</td>\n",
       "    </tr>\n",
       "    <tr>\n",
       "      <th>31~40세</th>\n",
       "      <td>10800</td>\n",
       "      <td>11200</td>\n",
       "    </tr>\n",
       "    <tr>\n",
       "      <th>41~50세</th>\n",
       "      <td>10000</td>\n",
       "      <td>10000</td>\n",
       "    </tr>\n",
       "    <tr>\n",
       "      <th>51~60세</th>\n",
       "      <td>8790</td>\n",
       "      <td>10010</td>\n",
       "    </tr>\n",
       "    <tr>\n",
       "      <th>61~70세</th>\n",
       "      <td>6370</td>\n",
       "      <td>6930</td>\n",
       "    </tr>\n",
       "    <tr>\n",
       "      <th>71~80세</th>\n",
       "      <td>3760</td>\n",
       "      <td>4040</td>\n",
       "    </tr>\n",
       "    <tr>\n",
       "      <th>81~90세</th>\n",
       "      <td>1050</td>\n",
       "      <td>1550</td>\n",
       "    </tr>\n",
       "    <tr>\n",
       "      <th>91~100세</th>\n",
       "      <td>20</td>\n",
       "      <td>370</td>\n",
       "    </tr>\n",
       "  </tbody>\n",
       "</table>\n",
       "</div>"
      ],
      "text/plain": [
       "             남      여\n",
       "연령                   \n",
       "0~10세     5200   5800\n",
       "11~20세    5200   5400\n",
       "21~30세   11500  10500\n",
       "31~40세   10800  11200\n",
       "41~50세   10000  10000\n",
       "51~60세    8790  10010\n",
       "61~70세    6370   6930\n",
       "71~80세    3760   4040\n",
       "81~90세    1050   1550\n",
       "91~100세     20    370"
      ]
     },
     "execution_count": 11,
     "metadata": {},
     "output_type": "execute_result"
    }
   ],
   "source": [
    "genderDataFrame = pd.DataFrame(genderDic, columns = columnsList)\n",
    "genderDataFrame = genderDataFrame.set_index(\"연령\")\n",
    "\n",
    "genderDataFrame"
   ]
  },
  {
   "cell_type": "code",
   "execution_count": 12,
   "metadata": {},
   "outputs": [
    {
     "data": {
      "image/png": "[encoded data removed]",
      "text/plain": [
       "<Figure size 432x288 with 1 Axes>"
      ]
     },
     "metadata": {
      "needs_background": "light"
     },
     "output_type": "display_data"
    }
   ],
   "source": [
    "barWidth = 3\n",
    "colorList = [\"b\", \"r\"]\n",
    "tlArray = np.array([10, 20, 30, 40, 50, 60, 70, 80, 90, 100])\n",
    "\n",
    "plt.bar(tlArray, genderDataFrame[\"남\"], color = \"b\", \n",
    "        align = \"edge\", width = barWidth)\n",
    "plt.bar(tlArray + barWidth, genderDataFrame[\"여\"], color = \"r\",\n",
    "        align = \"edge\", width = barWidth, tick_label = tlArray)\n",
    "\n",
    "plt.legend([\"남\", \"여\"])\n",
    "plt.xlabel(\"연령\")\n",
    "plt.ylabel(\"인구\")\n",
    "plt.title(\"동작구 상도동의 인구구조\")\n",
    "\n",
    "plt.show()"
   ]
  },
  {
   "cell_type": "code",
   "execution_count": null,
   "metadata": {},
   "outputs": [],
   "source": []
  }
 ],
 "metadata": {
  "kernelspec": {
   "display_name": "Python 3",
   "language": "python",
   "name": "python3"
  },
  "language_info": {
   "codemirror_mode": {
    "name": "ipython",
    "version": 3
   },
   "file_extension": ".py",
   "mimetype": "text/x-python",
   "name": "python",
   "nbconvert_exporter": "python",
   "pygments_lexer": "ipython3",
   "version": "3.7.3"
  }
 },
 "nbformat": 4,
 "nbformat_minor": 2
}
