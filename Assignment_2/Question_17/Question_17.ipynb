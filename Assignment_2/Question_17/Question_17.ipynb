{
 "cells": [
  {
   "cell_type": "code",
   "execution_count": 2,
   "metadata": {},
   "outputs": [],
   "source": [
    "import requests\n",
    "from bs4 import BeautifulSoup as bs"
   ]
  },
  {
   "cell_type": "code",
   "execution_count": 4,
   "metadata": {},
   "outputs": [],
   "source": [
    "url = \"https://iconmonstr.com/\"\n",
    "htmlText = requests.get(url).text\n",
    "soupXmlData = bs(htmlText, \"lxml\")"
   ]
  },
  {
   "cell_type": "code",
   "execution_count": 15,
   "metadata": {},
   "outputs": [
    {
     "data": {
      "text/plain": [
       "[<img class=\"preload\" height=\"1\" src=\"https://cdns.iconmonstr.com/wp-content/assets/preview/2019/240/iconmonstr-bus-1.png\" width=\"1\"/>,\n",
       " <img class=\"preload\" height=\"1\" src=\"https://cdns.iconmonstr.com/wp-content/assets/preview/2019/240/iconmonstr-bus-2.png\" width=\"1\"/>,\n",
       " <img class=\"preload\" height=\"1\" src=\"https://cdns.iconmonstr.com/wp-content/assets/preview/2019/240/iconmonstr-bus-3.png\" width=\"1\"/>,\n",
       " <img class=\"preload\" height=\"1\" src=\"https://cdns.iconmonstr.com/wp-content/assets/preview/2019/240/iconmonstr-bus-4.png\" width=\"1\"/>,\n",
       " <img class=\"preload\" height=\"1\" src=\"https://cdns.iconmonstr.com/wp-content/assets/preview/2019/240/iconmonstr-bus-5.png\" width=\"1\"/>,\n",
       " <img class=\"preload\" height=\"1\" src=\"https://cdns.iconmonstr.com/wp-content/assets/preview/2019/240/iconmonstr-bus-6.png\" width=\"1\"/>,\n",
       " <img class=\"preload\" height=\"1\" src=\"https://cdns.iconmonstr.com/wp-content/assets/preview/2019/240/iconmonstr-bus-7.png\" width=\"1\"/>,\n",
       " <img class=\"preload\" height=\"1\" src=\"https://cdns.iconmonstr.com/wp-content/assets/preview/2019/240/iconmonstr-bus-8.png\" width=\"1\"/>,\n",
       " <img class=\"preload\" height=\"1\" src=\"https://cdns.iconmonstr.com/wp-content/assets/preview/2019/240/iconmonstr-party-1.png\" width=\"1\"/>,\n",
       " <img class=\"preload\" height=\"1\" src=\"https://cdns.iconmonstr.com/wp-content/assets/preview/2019/240/iconmonstr-party-2.png\" width=\"1\"/>,\n",
       " <img class=\"preload\" height=\"1\" src=\"https://cdns.iconmonstr.com/wp-content/assets/preview/2019/240/iconmonstr-party-3.png\" width=\"1\"/>,\n",
       " <img class=\"preload\" height=\"1\" src=\"https://cdns.iconmonstr.com/wp-content/assets/preview/2019/240/iconmonstr-party-4.png\" width=\"1\"/>,\n",
       " <img class=\"preload\" height=\"1\" src=\"https://cdns.iconmonstr.com/wp-content/assets/preview/2019/240/iconmonstr-party-5.png\" width=\"1\"/>,\n",
       " <img class=\"preload\" height=\"1\" src=\"https://cdns.iconmonstr.com/wp-content/assets/preview/2019/240/iconmonstr-party-6.png\" width=\"1\"/>,\n",
       " <img class=\"preload\" height=\"1\" src=\"https://cdns.iconmonstr.com/wp-content/assets/preview/2019/240/iconmonstr-party-7.png\" width=\"1\"/>,\n",
       " <img class=\"preload\" height=\"1\" src=\"https://cdns.iconmonstr.com/wp-content/assets/preview/2019/240/iconmonstr-party-8.png\" width=\"1\"/>,\n",
       " <img class=\"preload\" height=\"1\" src=\"https://cdns.iconmonstr.com/wp-content/assets/preview/2019/240/iconmonstr-party-9.png\" width=\"1\"/>,\n",
       " <img class=\"preload\" height=\"1\" src=\"https://cdns.iconmonstr.com/wp-content/assets/preview/2019/240/iconmonstr-party-10.png\" width=\"1\"/>,\n",
       " <img class=\"preload\" height=\"1\" src=\"https://cdns.iconmonstr.com/wp-content/assets/preview/2019/240/iconmonstr-party-11.png\" width=\"1\"/>,\n",
       " <img class=\"preload\" height=\"1\" src=\"https://cdns.iconmonstr.com/wp-content/assets/preview/2019/240/iconmonstr-party-12.png\" width=\"1\"/>,\n",
       " <img class=\"preload\" height=\"1\" src=\"https://cdns.iconmonstr.com/wp-content/assets/preview/2019/240/iconmonstr-party-13.png\" width=\"1\"/>,\n",
       " <img class=\"preload\" height=\"1\" src=\"https://cdns.iconmonstr.com/wp-content/assets/preview/2019/240/iconmonstr-party-14.png\" width=\"1\"/>,\n",
       " <img class=\"preload\" height=\"1\" src=\"https://cdns.iconmonstr.com/wp-content/assets/preview/2019/240/iconmonstr-party-15.png\" width=\"1\"/>,\n",
       " <img class=\"preload\" height=\"1\" src=\"https://cdns.iconmonstr.com/wp-content/assets/preview/2019/240/iconmonstr-party-16.png\" width=\"1\"/>,\n",
       " <img class=\"preload\" height=\"1\" src=\"https://cdns.iconmonstr.com/wp-content/assets/preview/2019/240/iconmonstr-party-17.png\" width=\"1\"/>,\n",
       " <img class=\"preload\" height=\"1\" src=\"https://cdns.iconmonstr.com/wp-content/assets/preview/2019/240/iconmonstr-party-18.png\" width=\"1\"/>,\n",
       " <img class=\"preload\" height=\"1\" src=\"https://cdns.iconmonstr.com/wp-content/assets/preview/2019/240/iconmonstr-party-19.png\" width=\"1\"/>,\n",
       " <img class=\"preload\" height=\"1\" src=\"https://cdns.iconmonstr.com/wp-content/assets/preview/2019/240/iconmonstr-party-20.png\" width=\"1\"/>,\n",
       " <img class=\"preload\" height=\"1\" src=\"https://cdns.iconmonstr.com/wp-content/assets/preview/2019/240/iconmonstr-party-21.png\" width=\"1\"/>,\n",
       " <img class=\"preload\" height=\"1\" src=\"https://cdns.iconmonstr.com/wp-content/assets/preview/2019/240/iconmonstr-party-22.png\" width=\"1\"/>,\n",
       " <img class=\"preload\" height=\"1\" src=\"https://cdns.iconmonstr.com/wp-content/assets/preview/2019/240/iconmonstr-customer-1.png\" width=\"1\"/>,\n",
       " <img class=\"preload\" height=\"1\" src=\"https://cdns.iconmonstr.com/wp-content/assets/preview/2019/240/iconmonstr-customer-2.png\" width=\"1\"/>,\n",
       " <img class=\"preload\" height=\"1\" src=\"https://cdns.iconmonstr.com/wp-content/assets/preview/2019/240/iconmonstr-customer-3.png\" width=\"1\"/>,\n",
       " <img class=\"preload\" height=\"1\" src=\"https://cdns.iconmonstr.com/wp-content/assets/preview/2019/240/iconmonstr-customer-4.png\" width=\"1\"/>,\n",
       " <img class=\"preload\" height=\"1\" src=\"https://cdns.iconmonstr.com/wp-content/assets/preview/2019/240/iconmonstr-customer-5.png\" width=\"1\"/>,\n",
       " <img class=\"preload\" height=\"1\" src=\"https://cdns.iconmonstr.com/wp-content/assets/preview/2019/240/iconmonstr-customer-6.png\" width=\"1\"/>,\n",
       " <img class=\"preload\" height=\"1\" src=\"https://cdns.iconmonstr.com/wp-content/assets/preview/2019/240/iconmonstr-customer-7.png\" width=\"1\"/>,\n",
       " <img class=\"preload\" height=\"1\" src=\"https://cdns.iconmonstr.com/wp-content/assets/preview/2019/240/iconmonstr-customer-8.png\" width=\"1\"/>,\n",
       " <img class=\"preload\" height=\"1\" src=\"https://cdns.iconmonstr.com/wp-content/assets/preview/2019/240/iconmonstr-customer-9.png\" width=\"1\"/>,\n",
       " <img class=\"preload\" height=\"1\" src=\"https://cdns.iconmonstr.com/wp-content/assets/preview/2019/240/iconmonstr-customer-10.png\" width=\"1\"/>,\n",
       " <img class=\"preload\" height=\"1\" src=\"https://cdns.iconmonstr.com/wp-content/assets/preview/2019/240/iconmonstr-customer-11.png\" width=\"1\"/>,\n",
       " <img class=\"preload\" height=\"1\" src=\"https://cdns.iconmonstr.com/wp-content/assets/preview/2019/240/iconmonstr-customer-12.png\" width=\"1\"/>,\n",
       " <img class=\"preload\" height=\"1\" src=\"https://cdns.iconmonstr.com/wp-content/assets/preview/2019/240/iconmonstr-cat-1.png\" width=\"1\"/>,\n",
       " <img class=\"preload\" height=\"1\" src=\"https://cdns.iconmonstr.com/wp-content/assets/preview/2019/240/iconmonstr-cat-2.png\" width=\"1\"/>,\n",
       " <img class=\"preload\" height=\"1\" src=\"https://cdns.iconmonstr.com/wp-content/assets/preview/2019/240/iconmonstr-cat-3.png\" width=\"1\"/>,\n",
       " <img class=\"preload\" height=\"1\" src=\"https://cdns.iconmonstr.com/wp-content/assets/preview/2019/240/iconmonstr-cat-4.png\" width=\"1\"/>,\n",
       " <img class=\"preload\" height=\"1\" src=\"https://cdns.iconmonstr.com/wp-content/assets/preview/2019/240/iconmonstr-cat-5.png\" width=\"1\"/>,\n",
       " <img class=\"preload\" height=\"1\" src=\"https://cdns.iconmonstr.com/wp-content/assets/preview/2019/240/iconmonstr-cat-6.png\" width=\"1\"/>,\n",
       " <img class=\"preload\" height=\"1\" src=\"https://cdns.iconmonstr.com/wp-content/assets/preview/2019/240/iconmonstr-cat-7.png\" width=\"1\"/>,\n",
       " <img class=\"preload\" height=\"1\" src=\"https://cdns.iconmonstr.com/wp-content/assets/preview/2019/240/iconmonstr-cat-8.png\" width=\"1\"/>,\n",
       " <img class=\"preload\" height=\"1\" src=\"https://cdns.iconmonstr.com/wp-content/assets/preview/2019/240/iconmonstr-product-1.png\" width=\"1\"/>,\n",
       " <img class=\"preload\" height=\"1\" src=\"https://cdns.iconmonstr.com/wp-content/assets/preview/2019/240/iconmonstr-product-2.png\" width=\"1\"/>,\n",
       " <img class=\"preload\" height=\"1\" src=\"https://cdns.iconmonstr.com/wp-content/assets/preview/2019/240/iconmonstr-product-3.png\" width=\"1\"/>,\n",
       " <img class=\"preload\" height=\"1\" src=\"https://cdns.iconmonstr.com/wp-content/assets/preview/2019/240/iconmonstr-product-4.png\" width=\"1\"/>,\n",
       " <img class=\"preload\" height=\"1\" src=\"https://cdns.iconmonstr.com/wp-content/assets/preview/2019/240/iconmonstr-product-5.png\" width=\"1\"/>,\n",
       " <img class=\"preload\" height=\"1\" src=\"https://cdns.iconmonstr.com/wp-content/assets/preview/2019/240/iconmonstr-product-6.png\" width=\"1\"/>,\n",
       " <img class=\"preload\" height=\"1\" src=\"https://cdns.iconmonstr.com/wp-content/assets/preview/2019/240/iconmonstr-product-7.png\" width=\"1\"/>,\n",
       " <img class=\"preload\" height=\"1\" src=\"https://cdns.iconmonstr.com/wp-content/assets/preview/2019/240/iconmonstr-product-8.png\" width=\"1\"/>,\n",
       " <img class=\"preload\" height=\"1\" src=\"https://cdns.iconmonstr.com/wp-content/assets/preview/2019/240/iconmonstr-product-9.png\" width=\"1\"/>]"
      ]
     },
     "execution_count": 15,
     "metadata": {},
     "output_type": "execute_result"
    }
   ],
   "source": [
    "# 가\n",
    "images = soupXmlData.select(\"img.preload\")\n",
    "images"
   ]
  },
  {
   "cell_type": "code",
   "execution_count": 21,
   "metadata": {},
   "outputs": [
    {
     "data": {
      "text/plain": [
       "['https://cdns.iconmonstr.com/wp-content/assets/preview/2019/240/iconmonstr-bus-1.png',\n",
       " 'https://cdns.iconmonstr.com/wp-content/assets/preview/2019/240/iconmonstr-bus-2.png',\n",
       " 'https://cdns.iconmonstr.com/wp-content/assets/preview/2019/240/iconmonstr-bus-3.png',\n",
       " 'https://cdns.iconmonstr.com/wp-content/assets/preview/2019/240/iconmonstr-bus-4.png',\n",
       " 'https://cdns.iconmonstr.com/wp-content/assets/preview/2019/240/iconmonstr-bus-5.png',\n",
       " 'https://cdns.iconmonstr.com/wp-content/assets/preview/2019/240/iconmonstr-bus-6.png',\n",
       " 'https://cdns.iconmonstr.com/wp-content/assets/preview/2019/240/iconmonstr-bus-7.png',\n",
       " 'https://cdns.iconmonstr.com/wp-content/assets/preview/2019/240/iconmonstr-bus-8.png',\n",
       " 'https://cdns.iconmonstr.com/wp-content/assets/preview/2019/240/iconmonstr-party-1.png',\n",
       " 'https://cdns.iconmonstr.com/wp-content/assets/preview/2019/240/iconmonstr-party-2.png',\n",
       " 'https://cdns.iconmonstr.com/wp-content/assets/preview/2019/240/iconmonstr-party-3.png',\n",
       " 'https://cdns.iconmonstr.com/wp-content/assets/preview/2019/240/iconmonstr-party-4.png',\n",
       " 'https://cdns.iconmonstr.com/wp-content/assets/preview/2019/240/iconmonstr-party-5.png',\n",
       " 'https://cdns.iconmonstr.com/wp-content/assets/preview/2019/240/iconmonstr-party-6.png',\n",
       " 'https://cdns.iconmonstr.com/wp-content/assets/preview/2019/240/iconmonstr-party-7.png',\n",
       " 'https://cdns.iconmonstr.com/wp-content/assets/preview/2019/240/iconmonstr-party-8.png',\n",
       " 'https://cdns.iconmonstr.com/wp-content/assets/preview/2019/240/iconmonstr-party-9.png',\n",
       " 'https://cdns.iconmonstr.com/wp-content/assets/preview/2019/240/iconmonstr-party-10.png',\n",
       " 'https://cdns.iconmonstr.com/wp-content/assets/preview/2019/240/iconmonstr-party-11.png',\n",
       " 'https://cdns.iconmonstr.com/wp-content/assets/preview/2019/240/iconmonstr-party-12.png',\n",
       " 'https://cdns.iconmonstr.com/wp-content/assets/preview/2019/240/iconmonstr-party-13.png',\n",
       " 'https://cdns.iconmonstr.com/wp-content/assets/preview/2019/240/iconmonstr-party-14.png',\n",
       " 'https://cdns.iconmonstr.com/wp-content/assets/preview/2019/240/iconmonstr-party-15.png',\n",
       " 'https://cdns.iconmonstr.com/wp-content/assets/preview/2019/240/iconmonstr-party-16.png',\n",
       " 'https://cdns.iconmonstr.com/wp-content/assets/preview/2019/240/iconmonstr-party-17.png',\n",
       " 'https://cdns.iconmonstr.com/wp-content/assets/preview/2019/240/iconmonstr-party-18.png',\n",
       " 'https://cdns.iconmonstr.com/wp-content/assets/preview/2019/240/iconmonstr-party-19.png',\n",
       " 'https://cdns.iconmonstr.com/wp-content/assets/preview/2019/240/iconmonstr-party-20.png',\n",
       " 'https://cdns.iconmonstr.com/wp-content/assets/preview/2019/240/iconmonstr-party-21.png',\n",
       " 'https://cdns.iconmonstr.com/wp-content/assets/preview/2019/240/iconmonstr-party-22.png',\n",
       " 'https://cdns.iconmonstr.com/wp-content/assets/preview/2019/240/iconmonstr-customer-1.png',\n",
       " 'https://cdns.iconmonstr.com/wp-content/assets/preview/2019/240/iconmonstr-customer-2.png',\n",
       " 'https://cdns.iconmonstr.com/wp-content/assets/preview/2019/240/iconmonstr-customer-3.png',\n",
       " 'https://cdns.iconmonstr.com/wp-content/assets/preview/2019/240/iconmonstr-customer-4.png',\n",
       " 'https://cdns.iconmonstr.com/wp-content/assets/preview/2019/240/iconmonstr-customer-5.png',\n",
       " 'https://cdns.iconmonstr.com/wp-content/assets/preview/2019/240/iconmonstr-customer-6.png',\n",
       " 'https://cdns.iconmonstr.com/wp-content/assets/preview/2019/240/iconmonstr-customer-7.png',\n",
       " 'https://cdns.iconmonstr.com/wp-content/assets/preview/2019/240/iconmonstr-customer-8.png',\n",
       " 'https://cdns.iconmonstr.com/wp-content/assets/preview/2019/240/iconmonstr-customer-9.png',\n",
       " 'https://cdns.iconmonstr.com/wp-content/assets/preview/2019/240/iconmonstr-customer-10.png',\n",
       " 'https://cdns.iconmonstr.com/wp-content/assets/preview/2019/240/iconmonstr-customer-11.png',\n",
       " 'https://cdns.iconmonstr.com/wp-content/assets/preview/2019/240/iconmonstr-customer-12.png',\n",
       " 'https://cdns.iconmonstr.com/wp-content/assets/preview/2019/240/iconmonstr-cat-1.png',\n",
       " 'https://cdns.iconmonstr.com/wp-content/assets/preview/2019/240/iconmonstr-cat-2.png',\n",
       " 'https://cdns.iconmonstr.com/wp-content/assets/preview/2019/240/iconmonstr-cat-3.png',\n",
       " 'https://cdns.iconmonstr.com/wp-content/assets/preview/2019/240/iconmonstr-cat-4.png',\n",
       " 'https://cdns.iconmonstr.com/wp-content/assets/preview/2019/240/iconmonstr-cat-5.png',\n",
       " 'https://cdns.iconmonstr.com/wp-content/assets/preview/2019/240/iconmonstr-cat-6.png',\n",
       " 'https://cdns.iconmonstr.com/wp-content/assets/preview/2019/240/iconmonstr-cat-7.png',\n",
       " 'https://cdns.iconmonstr.com/wp-content/assets/preview/2019/240/iconmonstr-cat-8.png',\n",
       " 'https://cdns.iconmonstr.com/wp-content/assets/preview/2019/240/iconmonstr-product-1.png',\n",
       " 'https://cdns.iconmonstr.com/wp-content/assets/preview/2019/240/iconmonstr-product-2.png',\n",
       " 'https://cdns.iconmonstr.com/wp-content/assets/preview/2019/240/iconmonstr-product-3.png',\n",
       " 'https://cdns.iconmonstr.com/wp-content/assets/preview/2019/240/iconmonstr-product-4.png',\n",
       " 'https://cdns.iconmonstr.com/wp-content/assets/preview/2019/240/iconmonstr-product-5.png',\n",
       " 'https://cdns.iconmonstr.com/wp-content/assets/preview/2019/240/iconmonstr-product-6.png',\n",
       " 'https://cdns.iconmonstr.com/wp-content/assets/preview/2019/240/iconmonstr-product-7.png',\n",
       " 'https://cdns.iconmonstr.com/wp-content/assets/preview/2019/240/iconmonstr-product-8.png',\n",
       " 'https://cdns.iconmonstr.com/wp-content/assets/preview/2019/240/iconmonstr-product-9.png']"
      ]
     },
     "execution_count": 21,
     "metadata": {},
     "output_type": "execute_result"
    }
   ],
   "source": [
    "# 나\n",
    "srcList = []\n",
    "\n",
    "for imageData in images:\n",
    "    srcData = imageData.get(\"src\")\n",
    "    srcList.append(srcData)\n",
    "    \n",
    "srcList"
   ]
  },
  {
   "cell_type": "code",
   "execution_count": 23,
   "metadata": {},
   "outputs": [],
   "source": [
    "import os\n",
    "import urllib"
   ]
  },
  {
   "cell_type": "code",
   "execution_count": 26,
   "metadata": {},
   "outputs": [
    {
     "name": "stdout",
     "output_type": "stream",
     "text": [
      "E:\\Programing\\Python\\SoongSil_University_AI_DataAnalytics\\Assignment_2\\Question_17/download/iconmonstr-bus-1.png\n",
      "E:\\Programing\\Python\\SoongSil_University_AI_DataAnalytics\\Assignment_2\\Question_17/download/iconmonstr-bus-2.png\n",
      "E:\\Programing\\Python\\SoongSil_University_AI_DataAnalytics\\Assignment_2\\Question_17/download/iconmonstr-bus-3.png\n",
      "E:\\Programing\\Python\\SoongSil_University_AI_DataAnalytics\\Assignment_2\\Question_17/download/iconmonstr-bus-4.png\n",
      "E:\\Programing\\Python\\SoongSil_University_AI_DataAnalytics\\Assignment_2\\Question_17/download/iconmonstr-bus-5.png\n",
      "E:\\Programing\\Python\\SoongSil_University_AI_DataAnalytics\\Assignment_2\\Question_17/download/iconmonstr-bus-6.png\n",
      "E:\\Programing\\Python\\SoongSil_University_AI_DataAnalytics\\Assignment_2\\Question_17/download/iconmonstr-bus-7.png\n",
      "E:\\Programing\\Python\\SoongSil_University_AI_DataAnalytics\\Assignment_2\\Question_17/download/iconmonstr-bus-8.png\n",
      "E:\\Programing\\Python\\SoongSil_University_AI_DataAnalytics\\Assignment_2\\Question_17/download/iconmonstr-party-1.png\n",
      "E:\\Programing\\Python\\SoongSil_University_AI_DataAnalytics\\Assignment_2\\Question_17/download/iconmonstr-party-2.png\n",
      "E:\\Programing\\Python\\SoongSil_University_AI_DataAnalytics\\Assignment_2\\Question_17/download/iconmonstr-party-3.png\n",
      "E:\\Programing\\Python\\SoongSil_University_AI_DataAnalytics\\Assignment_2\\Question_17/download/iconmonstr-party-4.png\n",
      "E:\\Programing\\Python\\SoongSil_University_AI_DataAnalytics\\Assignment_2\\Question_17/download/iconmonstr-party-5.png\n",
      "E:\\Programing\\Python\\SoongSil_University_AI_DataAnalytics\\Assignment_2\\Question_17/download/iconmonstr-party-6.png\n",
      "E:\\Programing\\Python\\SoongSil_University_AI_DataAnalytics\\Assignment_2\\Question_17/download/iconmonstr-party-7.png\n",
      "E:\\Programing\\Python\\SoongSil_University_AI_DataAnalytics\\Assignment_2\\Question_17/download/iconmonstr-party-8.png\n",
      "E:\\Programing\\Python\\SoongSil_University_AI_DataAnalytics\\Assignment_2\\Question_17/download/iconmonstr-party-9.png\n",
      "E:\\Programing\\Python\\SoongSil_University_AI_DataAnalytics\\Assignment_2\\Question_17/download/iconmonstr-party-10.png\n",
      "E:\\Programing\\Python\\SoongSil_University_AI_DataAnalytics\\Assignment_2\\Question_17/download/iconmonstr-party-11.png\n",
      "E:\\Programing\\Python\\SoongSil_University_AI_DataAnalytics\\Assignment_2\\Question_17/download/iconmonstr-party-12.png\n",
      "E:\\Programing\\Python\\SoongSil_University_AI_DataAnalytics\\Assignment_2\\Question_17/download/iconmonstr-party-13.png\n",
      "E:\\Programing\\Python\\SoongSil_University_AI_DataAnalytics\\Assignment_2\\Question_17/download/iconmonstr-party-14.png\n",
      "E:\\Programing\\Python\\SoongSil_University_AI_DataAnalytics\\Assignment_2\\Question_17/download/iconmonstr-party-15.png\n",
      "E:\\Programing\\Python\\SoongSil_University_AI_DataAnalytics\\Assignment_2\\Question_17/download/iconmonstr-party-16.png\n",
      "E:\\Programing\\Python\\SoongSil_University_AI_DataAnalytics\\Assignment_2\\Question_17/download/iconmonstr-party-17.png\n",
      "E:\\Programing\\Python\\SoongSil_University_AI_DataAnalytics\\Assignment_2\\Question_17/download/iconmonstr-party-18.png\n",
      "E:\\Programing\\Python\\SoongSil_University_AI_DataAnalytics\\Assignment_2\\Question_17/download/iconmonstr-party-19.png\n",
      "E:\\Programing\\Python\\SoongSil_University_AI_DataAnalytics\\Assignment_2\\Question_17/download/iconmonstr-party-20.png\n",
      "E:\\Programing\\Python\\SoongSil_University_AI_DataAnalytics\\Assignment_2\\Question_17/download/iconmonstr-party-21.png\n",
      "E:\\Programing\\Python\\SoongSil_University_AI_DataAnalytics\\Assignment_2\\Question_17/download/iconmonstr-party-22.png\n",
      "E:\\Programing\\Python\\SoongSil_University_AI_DataAnalytics\\Assignment_2\\Question_17/download/iconmonstr-customer-1.png\n",
      "E:\\Programing\\Python\\SoongSil_University_AI_DataAnalytics\\Assignment_2\\Question_17/download/iconmonstr-customer-2.png\n",
      "E:\\Programing\\Python\\SoongSil_University_AI_DataAnalytics\\Assignment_2\\Question_17/download/iconmonstr-customer-3.png\n",
      "E:\\Programing\\Python\\SoongSil_University_AI_DataAnalytics\\Assignment_2\\Question_17/download/iconmonstr-customer-4.png\n",
      "E:\\Programing\\Python\\SoongSil_University_AI_DataAnalytics\\Assignment_2\\Question_17/download/iconmonstr-customer-5.png\n",
      "E:\\Programing\\Python\\SoongSil_University_AI_DataAnalytics\\Assignment_2\\Question_17/download/iconmonstr-customer-6.png\n",
      "E:\\Programing\\Python\\SoongSil_University_AI_DataAnalytics\\Assignment_2\\Question_17/download/iconmonstr-customer-7.png\n",
      "E:\\Programing\\Python\\SoongSil_University_AI_DataAnalytics\\Assignment_2\\Question_17/download/iconmonstr-customer-8.png\n",
      "E:\\Programing\\Python\\SoongSil_University_AI_DataAnalytics\\Assignment_2\\Question_17/download/iconmonstr-customer-9.png\n",
      "E:\\Programing\\Python\\SoongSil_University_AI_DataAnalytics\\Assignment_2\\Question_17/download/iconmonstr-customer-10.png\n",
      "E:\\Programing\\Python\\SoongSil_University_AI_DataAnalytics\\Assignment_2\\Question_17/download/iconmonstr-customer-11.png\n",
      "E:\\Programing\\Python\\SoongSil_University_AI_DataAnalytics\\Assignment_2\\Question_17/download/iconmonstr-customer-12.png\n",
      "E:\\Programing\\Python\\SoongSil_University_AI_DataAnalytics\\Assignment_2\\Question_17/download/iconmonstr-cat-1.png\n",
      "E:\\Programing\\Python\\SoongSil_University_AI_DataAnalytics\\Assignment_2\\Question_17/download/iconmonstr-cat-2.png\n",
      "E:\\Programing\\Python\\SoongSil_University_AI_DataAnalytics\\Assignment_2\\Question_17/download/iconmonstr-cat-3.png\n",
      "E:\\Programing\\Python\\SoongSil_University_AI_DataAnalytics\\Assignment_2\\Question_17/download/iconmonstr-cat-4.png\n",
      "E:\\Programing\\Python\\SoongSil_University_AI_DataAnalytics\\Assignment_2\\Question_17/download/iconmonstr-cat-5.png\n",
      "E:\\Programing\\Python\\SoongSil_University_AI_DataAnalytics\\Assignment_2\\Question_17/download/iconmonstr-cat-6.png\n",
      "E:\\Programing\\Python\\SoongSil_University_AI_DataAnalytics\\Assignment_2\\Question_17/download/iconmonstr-cat-7.png\n",
      "E:\\Programing\\Python\\SoongSil_University_AI_DataAnalytics\\Assignment_2\\Question_17/download/iconmonstr-cat-8.png\n",
      "E:\\Programing\\Python\\SoongSil_University_AI_DataAnalytics\\Assignment_2\\Question_17/download/iconmonstr-product-1.png\n",
      "E:\\Programing\\Python\\SoongSil_University_AI_DataAnalytics\\Assignment_2\\Question_17/download/iconmonstr-product-2.png\n",
      "E:\\Programing\\Python\\SoongSil_University_AI_DataAnalytics\\Assignment_2\\Question_17/download/iconmonstr-product-3.png\n",
      "E:\\Programing\\Python\\SoongSil_University_AI_DataAnalytics\\Assignment_2\\Question_17/download/iconmonstr-product-4.png\n",
      "E:\\Programing\\Python\\SoongSil_University_AI_DataAnalytics\\Assignment_2\\Question_17/download/iconmonstr-product-5.png\n",
      "E:\\Programing\\Python\\SoongSil_University_AI_DataAnalytics\\Assignment_2\\Question_17/download/iconmonstr-product-6.png\n",
      "E:\\Programing\\Python\\SoongSil_University_AI_DataAnalytics\\Assignment_2\\Question_17/download/iconmonstr-product-7.png\n",
      "E:\\Programing\\Python\\SoongSil_University_AI_DataAnalytics\\Assignment_2\\Question_17/download/iconmonstr-product-8.png\n",
      "E:\\Programing\\Python\\SoongSil_University_AI_DataAnalytics\\Assignment_2\\Question_17/download/iconmonstr-product-9.png\n"
     ]
    }
   ],
   "source": [
    "# 다\n",
    "path = os.getcwd() + \"/download\"\n",
    "\n",
    "for url in srcList:\n",
    "    savePath = path + \"/\" + os.path.basename(url)\n",
    "    print(savePath)\n",
    "    urllib.request.urlretrieve(url, savePath)"
   ]
  },
  {
   "cell_type": "code",
   "execution_count": null,
   "metadata": {},
   "outputs": [],
   "source": []
  }
 ],
 "metadata": {
  "kernelspec": {
   "display_name": "Python 3",
   "language": "python",
   "name": "python3"
  },
  "language_info": {
   "codemirror_mode": {
    "name": "ipython",
    "version": 3
   },
   "file_extension": ".py",
   "mimetype": "text/x-python",
   "name": "python",
   "nbconvert_exporter": "python",
   "pygments_lexer": "ipython3",
   "version": "3.7.3"
  }
 },
 "nbformat": 4,
 "nbformat_minor": 2
}
