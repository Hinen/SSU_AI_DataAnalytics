{
 "cells": [
  {
   "cell_type": "code",
   "execution_count": 1,
   "metadata": {},
   "outputs": [],
   "source": [
    "import json"
   ]
  },
  {
   "cell_type": "code",
   "execution_count": 35,
   "metadata": {},
   "outputs": [],
   "source": [
    "jsonData = '''{\"거주지\": \"서울\",\n",
    "            \"나이\": 25,\n",
    "            \"신체정보\": {\"몸무게\": 71.2, \"키\": 175.4},\n",
    "            \"이름\": \"홍길동\",\n",
    "            \"취미\": [\"등산\", \"자전거타기\", \"독서\"]}'''"
   ]
  },
  {
   "cell_type": "code",
   "execution_count": 36,
   "metadata": {},
   "outputs": [
    {
     "data": {
      "text/plain": [
       "{'거주지': '서울',\n",
       " '나이': 25,\n",
       " '신체정보': {'몸무게': 71.2, '키': 175.4},\n",
       " '이름': '홍길동',\n",
       " '취미': ['등산', '자전거타기', '독서']}"
      ]
     },
     "execution_count": 36,
     "metadata": {},
     "output_type": "execute_result"
    }
   ],
   "source": [
    "jsonDict = json.loads(jsonData)\n",
    "jsonDict"
   ]
  },
  {
   "cell_type": "code",
   "execution_count": 37,
   "metadata": {},
   "outputs": [
    {
     "name": "stdout",
     "output_type": "stream",
     "text": [
      "홍길동\n",
      "25\n",
      "서울\n"
     ]
    }
   ],
   "source": [
    "print(jsonDict[\"이름\"])\n",
    "print(jsonDict[\"나이\"])\n",
    "print(jsonDict[\"거주지\"])"
   ]
  },
  {
   "cell_type": "code",
   "execution_count": null,
   "metadata": {},
   "outputs": [],
   "source": []
  }
 ],
 "metadata": {
  "kernelspec": {
   "display_name": "Python 3",
   "language": "python",
   "name": "python3"
  },
  "language_info": {
   "codemirror_mode": {
    "name": "ipython",
    "version": 3
   },
   "file_extension": ".py",
   "mimetype": "text/x-python",
   "name": "python",
   "nbconvert_exporter": "python",
   "pygments_lexer": "ipython3",
   "version": "3.7.3"
  }
 },
 "nbformat": 4,
 "nbformat_minor": 2
}
