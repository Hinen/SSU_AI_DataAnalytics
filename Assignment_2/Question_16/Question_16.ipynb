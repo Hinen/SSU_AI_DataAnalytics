{
 "cells": [
  {
   "cell_type": "code",
   "execution_count": 34,
   "metadata": {},
   "outputs": [],
   "source": [
    "import requests\n",
    "from bs4 import BeautifulSoup as bs"
   ]
  },
  {
   "cell_type": "code",
   "execution_count": 35,
   "metadata": {},
   "outputs": [],
   "source": [
    "url = \"https://www.billboard.com/charts/hot-100\"\n",
    "billboardData = requests.get(url)"
   ]
  },
  {
   "cell_type": "code",
   "execution_count": 36,
   "metadata": {},
   "outputs": [],
   "source": [
    "soupXmlData = bs(billboardData.text, \"lxml\")"
   ]
  },
  {
   "cell_type": "code",
   "execution_count": 37,
   "metadata": {},
   "outputs": [
    {
     "data": {
      "text/plain": [
       "[<span class=\"chart-element__information__song text--truncate color--primary\">Truth Hurts</span>,\n",
       " <span class=\"chart-element__information__song text--truncate color--primary\">Senorita</span>,\n",
       " <span class=\"chart-element__information__song text--truncate color--primary\">Someone You Loved</span>,\n",
       " <span class=\"chart-element__information__song text--truncate color--primary\">Ran$om</span>,\n",
       " <span class=\"chart-element__information__song text--truncate color--primary\">No Guidance</span>,\n",
       " <span class=\"chart-element__information__song text--truncate color--primary\">Bad Guy</span>,\n",
       " <span class=\"chart-element__information__song text--truncate color--primary\">Circles</span>,\n",
       " <span class=\"chart-element__information__song text--truncate color--primary\">Panini</span>,\n",
       " <span class=\"chart-element__information__song text--truncate color--primary\">Goodbyes</span>,\n",
       " <span class=\"chart-element__information__song text--truncate color--primary\">Old Town Road</span>]"
      ]
     },
     "execution_count": 37,
     "metadata": {},
     "output_type": "execute_result"
    }
   ],
   "source": [
    "songNames = soupXmlData.select(\"span.chart-element__information__song\")\n",
    "songNames[0:10]"
   ]
  },
  {
   "cell_type": "code",
   "execution_count": 38,
   "metadata": {},
   "outputs": [
    {
     "data": {
      "text/plain": [
       "['Truth Hurts',\n",
       " 'Senorita',\n",
       " 'Someone You Loved',\n",
       " 'Ran$om',\n",
       " 'No Guidance',\n",
       " 'Bad Guy',\n",
       " 'Circles',\n",
       " 'Panini',\n",
       " 'Goodbyes',\n",
       " 'Old Town Road']"
      ]
     },
     "execution_count": 38,
     "metadata": {},
     "output_type": "execute_result"
    }
   ],
   "source": [
    "songNameList = []\n",
    "\n",
    "for songName in songNames:\n",
    "    songNameList.append(songName.get_text())\n",
    "\n",
    "songNameList[0:10]"
   ]
  },
  {
   "cell_type": "code",
   "execution_count": 39,
   "metadata": {},
   "outputs": [
    {
     "data": {
      "text/plain": [
       "[<span class=\"chart-element__information__artist text--truncate color--secondary\">Lizzo</span>,\n",
       " <span class=\"chart-element__information__artist text--truncate color--secondary\">Shawn Mendes &amp; Camila Cabello</span>,\n",
       " <span class=\"chart-element__information__artist text--truncate color--secondary\">Lewis Capaldi</span>,\n",
       " <span class=\"chart-element__information__artist text--truncate color--secondary\">Lil Tecca</span>,\n",
       " <span class=\"chart-element__information__artist text--truncate color--secondary\">Chris Brown Featuring Drake</span>,\n",
       " <span class=\"chart-element__information__artist text--truncate color--secondary\">Billie Eilish</span>,\n",
       " <span class=\"chart-element__information__artist text--truncate color--secondary\">Post Malone</span>,\n",
       " <span class=\"chart-element__information__artist text--truncate color--secondary\">Lil Nas X</span>,\n",
       " <span class=\"chart-element__information__artist text--truncate color--secondary\">Post Malone Featuring Young Thug</span>,\n",
       " <span class=\"chart-element__information__artist text--truncate color--secondary\">Lil Nas X Featuring Billy Ray Cyrus</span>]"
      ]
     },
     "execution_count": 39,
     "metadata": {},
     "output_type": "execute_result"
    }
   ],
   "source": [
    "songArtists = soupXmlData.select(\"span.chart-element__information__artist\")\n",
    "songArtists[0:10]"
   ]
  },
  {
   "cell_type": "code",
   "execution_count": 40,
   "metadata": {},
   "outputs": [
    {
     "data": {
      "text/plain": [
       "['Lizzo',\n",
       " 'Shawn Mendes & Camila Cabello',\n",
       " 'Lewis Capaldi',\n",
       " 'Lil Tecca',\n",
       " 'Chris Brown Featuring Drake',\n",
       " 'Billie Eilish',\n",
       " 'Post Malone',\n",
       " 'Lil Nas X',\n",
       " 'Post Malone Featuring Young Thug',\n",
       " 'Lil Nas X Featuring Billy Ray Cyrus']"
      ]
     },
     "execution_count": 40,
     "metadata": {},
     "output_type": "execute_result"
    }
   ],
   "source": [
    "songArtistList = []\n",
    "\n",
    "for artist in songArtists:\n",
    "    songArtistList.append(artist.get_text())\n",
    "    \n",
    "songArtistList[0:10]"
   ]
  },
  {
   "cell_type": "code",
   "execution_count": 51,
   "metadata": {},
   "outputs": [
    {
     "name": "stdout",
     "output_type": "stream",
     "text": [
      "======== 2019년 10월 13일 빌보드 Top 100 ========\n",
      "\n",
      "1 : Truth Hurts / Lizzo\n",
      "2 : Senorita / Shawn Mendes & Camila Cabello\n",
      "3 : Someone You Loved / Lewis Capaldi\n",
      "4 : Ran$om / Lil Tecca\n",
      "5 : No Guidance / Chris Brown Featuring Drake\n",
      "6 : Bad Guy / Billie Eilish\n",
      "7 : Circles / Post Malone\n",
      "8 : Panini / Lil Nas X\n",
      "9 : Goodbyes / Post Malone Featuring Young Thug\n",
      "10 : Old Town Road / Lil Nas X Featuring Billy Ray Cyrus\n",
      "11 : I Don't Care / Ed Sheeran & Justin Bieber\n",
      "12 : Talk / Khalid\n",
      "13 : INTRO / DaBaby\n",
      "14 : Beautiful People / Ed Sheeran Featuring Khalid\n",
      "15 : Sunflower (Spider-Man: Into The Spider-Verse) / Post Malone & Swae Lee\n",
      "16 : Sucker / Jonas Brothers\n",
      "17 : Money In The Grave / Drake Featuring Rick Ross\n",
      "18 : Trampoline / SHAED\n",
      "19 : BOP / DaBaby\n",
      "20 : Suge / DaBaby\n",
      "21 : VIBEZ / DaBaby\n",
      "22 : Only Human / Jonas Brothers\n",
      "23 : On Chill / Wale Featuring Jeremih\n",
      "24 : How Do You Sleep? / Sam Smith\n",
      "25 : Hot Girl Summer / Megan Thee Stallion, Nicki Minaj & Ty Dolla $ign\n",
      "26 : Baby / Lil Baby & DaBaby\n",
      "27 : You Need To Calm Down / Taylor Swift\n",
      "28 : TOES / DaBaby Featuring Lil Baby & Moneybagg Yo\n",
      "29 : Memories / Maroon 5\n",
      "30 : Good As Hell / Lizzo\n",
      "31 : Dancing With A Stranger / Sam Smith & Normani\n",
      "32 : My Type / Saweetie\n",
      "33 : Without Me / Halsey\n",
      "34 : 223's / YNW Melly & 9lokknine\n",
      "35 : Wow. / Post Malone\n",
      "36 : Boyfriend / Ariana Grande & Social House\n",
      "37 : Hot / Young Thug Featuring Gunna\n",
      "38 : One Thing Right / Marshmello & Kane Brown\n",
      "39 : The Git Up / Blanco Brown\n",
      "40 : Take What You Want / Post Malone Featuring Ozzy Osbourne & Travis Scott\n",
      "41 : If I Can't Have You / Shawn Mendes\n",
      "42 : Camelot / NLE Choppa\n",
      "43 : iPHONE / DaBaby & Nicki Minaj\n",
      "44 : Cash Shit / Megan Thee Stallion Featuring DaBaby\n",
      "45 : Lover / Taylor Swift\n",
      "46 : Prayed For You / Matt Stell\n",
      "47 : OFF THE RIP / DaBaby\n",
      "48 : I Don't Know About You / Chris Lane\n",
      "49 : POP STAR / DaBaby Featuring Kevin Gates\n",
      "50 : The London / Young Thug, J. Cole & Travis Scott\n",
      "51 : RAW SHIT / DaBaby Featuring Migos\n",
      "52 : Enemies / Post Malone Featuring DaBaby\n",
      "53 : Ballin' / Mustard Featuring Roddy Ricch\n",
      "54 : Time / NF\n",
      "55 : GOSPEL / DaBaby Featuring Chance The Rapper, Gucci Mane & YK Osiris\n",
      "56 : Writing On The Wall / French Montana Featuring Post Malone, Cardi B & Rvssian\n",
      "57 : Heat / Chris Brown Featuring Gunna\n",
      "58 : Even Though I'm Leaving / Luke Combs\n",
      "59 : Living / Dierks Bentley\n",
      "60 : Graveyard / Halsey\n",
      "61 : Liar / Camila Cabello\n",
      "62 : One Man Band / Old Dominion\n",
      "63 : REALLY / DaBaby Featuring Stunna 4 Vegas\n",
      "64 : Southbound / Carrie Underwood\n",
      "65 : Love You Too Late / Cole Swindell\n",
      "66 : Good Vibes / Chris Janson\n",
      "67 : Motivation / Normani\n",
      "68 : Saint-Tropez / Post Malone\n",
      "69 : XXL / DaBaby\n",
      "70 : China / Anuel AA, Daddy Yankee, Karol G, Ozuna & J Balvin\n",
      "71 : Don't Call Me Angel (Charlie's Angels) / Ariana Grande, Miley Cyrus & Lana Del Rey\n",
      "72 : Lalala / Y2K & bbno$\n",
      "73 : PROLLY HEARD / DaBaby\n",
      "74 : Hollywood's Bleeding / Post Malone\n",
      "75 : Playing Games / Summer Walker\n",
      "76 : Hot Girl Bummer / blackbear\n",
      "77 : Every Little Thing / Russell Dickerson\n",
      "78 : Otro Trago / Sech, Darell, Nicky Jam, Ozuna & Anuel AA\n",
      "79 : Baby Sitter / DaBaby Featuring Offset\n",
      "80 : Die For Me / Post Malone Featuring Future & Halsey\n",
      "81 : Chicken Noodle Soup / j-hope Featuring Becky G.\n",
      "82 : Callaita / Bad Bunny & Tainy\n",
      "83 : Tip Of My Tongue / Kenny Chesney\n",
      "84 : Heartache Medication / Jon Pardi\n",
      "85 : What Happens In A Small Town / Brantley Gilbert + Lindsay Ell\n",
      "86 : By My Lonely / Kevin Gates\n",
      "87 : On The Road / Post Malone Featuring Meek Mill & Lil Baby\n",
      "88 : Right Back / Khalid Featuring A Boogie Wit da Hoodie\n",
      "89 : There He Go / DaBaby\n",
      "90 : F.N / Lil Tjay\n",
      "91 : Remember You Young / Thomas Rhett\n",
      "92 : The Ones That Didn't Make It Back Home / Justin Moore\n",
      "93 : Bad Bad Bad / Young Thug Featuring Lil Baby\n",
      "94 : Wish Wish / DJ Khaled Featuring Cardi B & 21 Savage\n",
      "95 : Higher Love / Kygo X Whitney Houston\n",
      "96 : Self Control / YoungBoy Never Broke Again\n",
      "97 : No Me Conoce / Jhay Cortez, J Balvin & Bad Bunny\n",
      "98 : Adicto / Tainy, Anuel AA & Ozuna\n",
      "99 : What If I Never Get Over You / Lady Antebellum\n",
      "100 : Did It Again / Lil Tecca\n"
     ]
    }
   ],
   "source": [
    "import datetime\n",
    "\n",
    "nowTime = datetime.datetime.now()\n",
    "print(\"======== %s년 %s월 %s일 빌보드 Top 100 ========\\n\" % (nowTime.year, nowTime.month, nowTime.day))\n",
    "\n",
    "for i in range(100):\n",
    "    print(\"%s : %s / %s\" % (i + 1, songNameList[i], songArtistList[i]))\n",
    "    "
   ]
  },
  {
   "cell_type": "code",
   "execution_count": null,
   "metadata": {},
   "outputs": [],
   "source": []
  }
 ],
 "metadata": {
  "kernelspec": {
   "display_name": "Python 3",
   "language": "python",
   "name": "python3"
  },
  "language_info": {
   "codemirror_mode": {
    "name": "ipython",
    "version": 3
   },
   "file_extension": ".py",
   "mimetype": "text/x-python",
   "name": "python",
   "nbconvert_exporter": "python",
   "pygments_lexer": "ipython3",
   "version": "3.7.3"
  }
 },
 "nbformat": 4,
 "nbformat_minor": 2
}
