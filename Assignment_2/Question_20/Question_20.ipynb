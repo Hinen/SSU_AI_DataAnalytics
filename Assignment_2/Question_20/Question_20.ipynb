{
 "cells": [
  {
   "cell_type": "code",
   "execution_count": 1,
   "metadata": {},
   "outputs": [],
   "source": [
    "import requests\n",
    "import json"
   ]
  },
  {
   "cell_type": "code",
   "execution_count": 2,
   "metadata": {},
   "outputs": [],
   "source": [
    "url = \"http://api.open-notify.org/iss-now.json\""
   ]
  },
  {
   "cell_type": "code",
   "execution_count": 17,
   "metadata": {},
   "outputs": [
    {
     "data": {
      "text/plain": [
       "[{'longitude': '167.4494', 'latitude': '-40.9231'},\n",
       " {'longitude': '167.4824', 'latitude': '-40.9415'},\n",
       " {'longitude': '167.5155', 'latitude': '-40.9599'},\n",
       " {'longitude': '167.5487', 'latitude': '-40.9783'},\n",
       " {'longitude': '167.5818', 'latitude': '-40.9967'},\n",
       " {'longitude': '167.6149', 'latitude': '-41.0151'},\n",
       " {'longitude': '167.6813', 'latitude': '-41.0519'},\n",
       " {'longitude': '167.7145', 'latitude': '-41.0702'},\n",
       " {'longitude': '167.7477', 'latitude': '-41.0886'},\n",
       " {'longitude': '167.7810', 'latitude': '-41.1069'}]"
      ]
     },
     "execution_count": 17,
     "metadata": {},
     "output_type": "execute_result"
    }
   ],
   "source": [
    "issPoistionList = []\n",
    "\n",
    "for i in range(10):    \n",
    "    r = requests.get(url)\n",
    "    jsonDict = json.loads(r.text)\n",
    "    issPoistionList.append(jsonDict[\"iss_position\"])\n",
    "    \n",
    "issPoistionList"
   ]
  },
  {
   "cell_type": "code",
   "execution_count": null,
   "metadata": {},
   "outputs": [],
   "source": []
  }
 ],
 "metadata": {
  "kernelspec": {
   "display_name": "Python 3",
   "language": "python",
   "name": "python3"
  },
  "language_info": {
   "codemirror_mode": {
    "name": "ipython",
    "version": 3
   },
   "file_extension": ".py",
   "mimetype": "text/x-python",
   "name": "python",
   "nbconvert_exporter": "python",
   "pygments_lexer": "ipython3",
   "version": "3.7.3"
  }
 },
 "nbformat": 4,
 "nbformat_minor": 2
}
