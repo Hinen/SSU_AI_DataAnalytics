{
 "cells": [
  {
   "cell_type": "code",
   "execution_count": 12,
   "metadata": {},
   "outputs": [],
   "source": [
    "import pandas as pd\n",
    "import numpy as np\n",
    "import matplotlib as mpl\n",
    "import matplotlib.pyplot as plt"
   ]
  },
  {
   "cell_type": "code",
   "execution_count": 9,
   "metadata": {},
   "outputs": [
    {
     "data": {
      "text/html": [
       "<div>\n",
       "<style scoped>\n",
       "    .dataframe tbody tr th:only-of-type {\n",
       "        vertical-align: middle;\n",
       "    }\n",
       "\n",
       "    .dataframe tbody tr th {\n",
       "        vertical-align: top;\n",
       "    }\n",
       "\n",
       "    .dataframe thead th {\n",
       "        text-align: right;\n",
       "    }\n",
       "</style>\n",
       "<table border=\"1\" class=\"dataframe\">\n",
       "  <thead>\n",
       "    <tr style=\"text-align: right;\">\n",
       "      <th></th>\n",
       "      <th>인구 수</th>\n",
       "      <th>CCTV 수</th>\n",
       "    </tr>\n",
       "    <tr>\n",
       "      <th>자치구</th>\n",
       "      <th></th>\n",
       "      <th></th>\n",
       "    </tr>\n",
       "  </thead>\n",
       "  <tbody>\n",
       "    <tr>\n",
       "      <th>강남구</th>\n",
       "      <td>3200</td>\n",
       "      <td>540000</td>\n",
       "    </tr>\n",
       "    <tr>\n",
       "      <th>강북구</th>\n",
       "      <td>800</td>\n",
       "      <td>320000</td>\n",
       "    </tr>\n",
       "    <tr>\n",
       "      <th>강서구</th>\n",
       "      <td>900</td>\n",
       "      <td>600000</td>\n",
       "    </tr>\n",
       "    <tr>\n",
       "      <th>관악구</th>\n",
       "      <td>2000</td>\n",
       "      <td>520000</td>\n",
       "    </tr>\n",
       "    <tr>\n",
       "      <th>광진구</th>\n",
       "      <td>800</td>\n",
       "      <td>370000</td>\n",
       "    </tr>\n",
       "    <tr>\n",
       "      <th>노원구</th>\n",
       "      <td>1500</td>\n",
       "      <td>540000</td>\n",
       "    </tr>\n",
       "    <tr>\n",
       "      <th>동대문구</th>\n",
       "      <td>1800</td>\n",
       "      <td>360000</td>\n",
       "    </tr>\n",
       "    <tr>\n",
       "      <th>동작구</th>\n",
       "      <td>1300</td>\n",
       "      <td>410000</td>\n",
       "    </tr>\n",
       "    <tr>\n",
       "      <th>마포구</th>\n",
       "      <td>900</td>\n",
       "      <td>380000</td>\n",
       "    </tr>\n",
       "    <tr>\n",
       "      <th>서대문구</th>\n",
       "      <td>1200</td>\n",
       "      <td>320000</td>\n",
       "    </tr>\n",
       "    <tr>\n",
       "      <th>용산구</th>\n",
       "      <td>2000</td>\n",
       "      <td>240000</td>\n",
       "    </tr>\n",
       "    <tr>\n",
       "      <th>은평구</th>\n",
       "      <td>2100</td>\n",
       "      <td>480000</td>\n",
       "    </tr>\n",
       "    <tr>\n",
       "      <th>종로구</th>\n",
       "      <td>1600</td>\n",
       "      <td>160000</td>\n",
       "    </tr>\n",
       "    <tr>\n",
       "      <th>중구</th>\n",
       "      <td>1000</td>\n",
       "      <td>130000</td>\n",
       "    </tr>\n",
       "    <tr>\n",
       "      <th>중랑구</th>\n",
       "      <td>900</td>\n",
       "      <td>400000</td>\n",
       "    </tr>\n",
       "  </tbody>\n",
       "</table>\n",
       "</div>"
      ],
      "text/plain": [
       "      인구 수  CCTV 수\n",
       "자치구               \n",
       "강남구   3200  540000\n",
       "강북구    800  320000\n",
       "강서구    900  600000\n",
       "관악구   2000  520000\n",
       "광진구    800  370000\n",
       "노원구   1500  540000\n",
       "동대문구  1800  360000\n",
       "동작구   1300  410000\n",
       "마포구    900  380000\n",
       "서대문구  1200  320000\n",
       "용산구   2000  240000\n",
       "은평구   2100  480000\n",
       "종로구   1600  160000\n",
       "중구    1000  130000\n",
       "중랑구    900  400000"
      ]
     },
     "execution_count": 9,
     "metadata": {},
     "output_type": "execute_result"
    }
   ],
   "source": [
    "cctvDic = { \"자치구\" : [\"강남구\", \"강북구\", \"강서구\", \"관악구\", \"광진구\",\n",
    "                     \"노원구\", \"동대문구\", \"동작구\", \"마포구\", \"서대문구\",\n",
    "                     \"용산구\", \"은평구\", \"종로구\", \"중구\", \"중랑구\"],\n",
    "            \"인구 수\" : [3200, 800, 900, 2000, 800,\n",
    "                      1500, 1800, 1300, 900, 1200,\n",
    "                      2000, 2100, 1600, 1000, 900],\n",
    "            \"CCTV 수\" : [540000, 320000, 600000, 520000, 370000,\n",
    "                       540000, 360000, 410000, 380000, 320000,\n",
    "                       240000, 480000, 160000, 130000, 400000]}\n",
    "\n",
    "columnsList = [\"자치구\", \"인구 수\", \"CCTV 수\"]\n",
    "\n",
    "dataFrame = pd.DataFrame(cctvDic, columns = columnsList)\n",
    "dataFrame.set_index(\"자치구\")"
   ]
  },
  {
   "cell_type": "code",
   "execution_count": 13,
   "metadata": {},
   "outputs": [
    {
     "data": {
      "image/png": "[encoded data removed]",
      "text/plain": [
       "<Figure size 432x288 with 1 Axes>"
      ]
     },
     "metadata": {
      "needs_background": "light"
     },
     "output_type": "display_data"
    }
   ],
   "source": [
    "mpl.rcParams[\"font.family\"] = \"Malgun Gothic\"\n",
    "mpl.rcParams[\"axes.unicode_minus\"] = False\n",
    "\n",
    "dataFrame.plot.scatter(x = \"CCTV 수\",\n",
    "                       y = \"인구 수\",\n",
    "                       grid = True,\n",
    "                       title = \"자치구의 인구 수와 CCTV 수의 관계\")\n",
    "\n",
    "plt.show() "
   ]
  },
  {
   "cell_type": "code",
   "execution_count": null,
   "metadata": {},
   "outputs": [],
   "source": []
  }
 ],
 "metadata": {
  "kernelspec": {
   "display_name": "Python 3",
   "language": "python",
   "name": "python3"
  },
  "language_info": {
   "codemirror_mode": {
    "name": "ipython",
    "version": 3
   },
   "file_extension": ".py",
   "mimetype": "text/x-python",
   "name": "python",
   "nbconvert_exporter": "python",
   "pygments_lexer": "ipython3",
   "version": "3.7.3"
  }
 },
 "nbformat": 4,
 "nbformat_minor": 2
}
