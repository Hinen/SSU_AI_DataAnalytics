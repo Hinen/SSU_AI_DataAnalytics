{
 "cells": [
  {
   "cell_type": "code",
   "execution_count": 4,
   "metadata": {},
   "outputs": [
    {
     "name": "stdout",
     "output_type": "stream",
     "text": [
      "Writing data/sea_rain1.csv\n"
     ]
    }
   ],
   "source": [
    "%%writefile data/sea_rain1.csv\n",
    "\n",
    "연도,동해,남해,서해,전체\n",
    "1996,15,16,17,18\n",
    "1997,13,14,15,16\n",
    "1998,17,16,15,14\n",
    "1999,18,18,17,17"
   ]
  }
 ],
 "metadata": {
  "kernelspec": {
   "display_name": "Python 3",
   "language": "python",
   "name": "python3"
  },
  "language_info": {
   "codemirror_mode": {
    "name": "ipython",
    "version": 3
   },
   "file_extension": ".py",
   "mimetype": "text/x-python",
   "name": "python",
   "nbconvert_exporter": "python",
   "pygments_lexer": "ipython3",
   "version": "3.7.3"
  }
 },
 "nbformat": 4,
 "nbformat_minor": 2
}
