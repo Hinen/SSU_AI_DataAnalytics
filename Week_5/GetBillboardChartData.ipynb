{
 "cells": [
  {
   "cell_type": "code",
   "execution_count": 5,
   "metadata": {},
   "outputs": [],
   "source": [
    "import requests\n",
    "from bs4 import BeautifulSoup as bs"
   ]
  },
  {
   "cell_type": "code",
   "execution_count": 6,
   "metadata": {},
   "outputs": [],
   "source": [
    "url = \"https://www.billboard.com/charts/hot-100\""
   ]
  },
  {
   "cell_type": "code",
   "execution_count": 20,
   "metadata": {},
   "outputs": [],
   "source": [
    "htmlText = requests.get(url).text\n",
    "soupXmlData = bs(htmlText, \"lxml\")"
   ]
  },
  {
   "cell_type": "code",
   "execution_count": 25,
   "metadata": {},
   "outputs": [
    {
     "data": {
      "text/plain": [
       "[<span class=\"chart-element__information__song text--truncate color--primary\">Truth Hurts</span>,\n",
       " <span class=\"chart-element__information__song text--truncate color--primary\">Senorita</span>,\n",
       " <span class=\"chart-element__information__song text--truncate color--primary\">Someone You Loved</span>,\n",
       " <span class=\"chart-element__information__song text--truncate color--primary\">Ran$om</span>,\n",
       " <span class=\"chart-element__information__song text--truncate color--primary\">No Guidance</span>,\n",
       " <span class=\"chart-element__information__song text--truncate color--primary\">Panini</span>,\n",
       " <span class=\"chart-element__information__song text--truncate color--primary\">Bad Guy</span>,\n",
       " <span class=\"chart-element__information__song text--truncate color--primary\">Circles</span>,\n",
       " <span class=\"chart-element__information__song text--truncate color--primary\">Goodbyes</span>,\n",
       " <span class=\"chart-element__information__song text--truncate color--primary\">Old Town Road</span>]"
      ]
     },
     "execution_count": 25,
     "metadata": {},
     "output_type": "execute_result"
    }
   ],
   "source": [
    "songNames = soupXmlData.select(\"span.chart-element__information__song\")\n",
    "songNames[0:10]"
   ]
  },
  {
   "cell_type": "code",
   "execution_count": 31,
   "metadata": {},
   "outputs": [
    {
     "data": {
      "text/plain": [
       "['Truth Hurts',\n",
       " 'Senorita',\n",
       " 'Someone You Loved',\n",
       " 'Ran$om',\n",
       " 'No Guidance',\n",
       " 'Panini',\n",
       " 'Bad Guy',\n",
       " 'Circles',\n",
       " 'Goodbyes',\n",
       " 'Old Town Road']"
      ]
     },
     "execution_count": 31,
     "metadata": {},
     "output_type": "execute_result"
    }
   ],
   "source": [
    "songNameList = []\n",
    "\n",
    "for songName in songNames[0:10]:\n",
    "    songNameList.append(songName.get_text())\n",
    "    \n",
    "songNameList"
   ]
  },
  {
   "cell_type": "code",
   "execution_count": 32,
   "metadata": {},
   "outputs": [
    {
     "data": {
      "text/plain": [
       "[<span class=\"chart-element__information__artist text--truncate color--secondary\">Lizzo</span>,\n",
       " <span class=\"chart-element__information__artist text--truncate color--secondary\">Shawn Mendes &amp; Camila Cabello</span>,\n",
       " <span class=\"chart-element__information__artist text--truncate color--secondary\">Lewis Capaldi</span>,\n",
       " <span class=\"chart-element__information__artist text--truncate color--secondary\">Lil Tecca</span>,\n",
       " <span class=\"chart-element__information__artist text--truncate color--secondary\">Chris Brown Featuring Drake</span>,\n",
       " <span class=\"chart-element__information__artist text--truncate color--secondary\">Lil Nas X</span>,\n",
       " <span class=\"chart-element__information__artist text--truncate color--secondary\">Billie Eilish</span>,\n",
       " <span class=\"chart-element__information__artist text--truncate color--secondary\">Post Malone</span>,\n",
       " <span class=\"chart-element__information__artist text--truncate color--secondary\">Post Malone Featuring Young Thug</span>,\n",
       " <span class=\"chart-element__information__artist text--truncate color--secondary\">Lil Nas X Featuring Billy Ray Cyrus</span>]"
      ]
     },
     "execution_count": 32,
     "metadata": {},
     "output_type": "execute_result"
    }
   ],
   "source": [
    "songArtists = soupXmlData.select(\"span.chart-element__information__artist\")\n",
    "songArtists[0:10]"
   ]
  },
  {
   "cell_type": "code",
   "execution_count": 33,
   "metadata": {},
   "outputs": [
    {
     "data": {
      "text/plain": [
       "['Lizzo',\n",
       " 'Shawn Mendes & Camila Cabello',\n",
       " 'Lewis Capaldi',\n",
       " 'Lil Tecca',\n",
       " 'Chris Brown Featuring Drake',\n",
       " 'Lil Nas X',\n",
       " 'Billie Eilish',\n",
       " 'Post Malone',\n",
       " 'Post Malone Featuring Young Thug',\n",
       " 'Lil Nas X Featuring Billy Ray Cyrus']"
      ]
     },
     "execution_count": 33,
     "metadata": {},
     "output_type": "execute_result"
    }
   ],
   "source": [
    "songArtistList = []\n",
    "\n",
    "for artist in songArtists[0:10]:\n",
    "    songArtistList.append(artist.get_text())\n",
    "    \n",
    "songArtistList"
   ]
  },
  {
   "cell_type": "code",
   "execution_count": 39,
   "metadata": {},
   "outputs": [
    {
     "name": "stdout",
     "output_type": "stream",
     "text": [
      "2019년 10월 5일 빌보드 Top 10\n"
     ]
    }
   ],
   "source": [
    "import datetime\n",
    "\n",
    "nowTime = datetime.datetime.now()\n",
    "print(\"%s년 %s월 %s일 빌보드 Top 10\" % (nowTime.year, nowTime.month, nowTime.day))"
   ]
  },
  {
   "cell_type": "code",
   "execution_count": 43,
   "metadata": {},
   "outputs": [
    {
     "name": "stdout",
     "output_type": "stream",
     "text": [
      "1위 : Lizzo - Truth Hurts\n",
      "2위 : Shawn Mendes & Camila Cabello - Senorita\n",
      "3위 : Lewis Capaldi - Someone You Loved\n",
      "4위 : Lil Tecca - Ran$om\n",
      "5위 : Chris Brown Featuring Drake - No Guidance\n",
      "6위 : Lil Nas X - Panini\n",
      "7위 : Billie Eilish - Bad Guy\n",
      "8위 : Post Malone - Circles\n",
      "9위 : Post Malone Featuring Young Thug - Goodbyes\n",
      "10위 : Lil Nas X Featuring Billy Ray Cyrus - Old Town Road\n"
     ]
    }
   ],
   "source": [
    "for i in range(10):\n",
    "    print(\"%s위 : %s - %s\" % (i + 1, songArtistList[i], songNameList[i]))"
   ]
  },
  {
   "cell_type": "code",
   "execution_count": null,
   "metadata": {},
   "outputs": [],
   "source": []
  }
 ],
 "metadata": {
  "kernelspec": {
   "display_name": "Python 3",
   "language": "python",
   "name": "python3"
  },
  "language_info": {
   "codemirror_mode": {
    "name": "ipython",
    "version": 3
   },
   "file_extension": ".py",
   "mimetype": "text/x-python",
   "name": "python",
   "nbconvert_exporter": "python",
   "pygments_lexer": "ipython3",
   "version": "3.7.3"
  }
 },
 "nbformat": 4,
 "nbformat_minor": 2
}
