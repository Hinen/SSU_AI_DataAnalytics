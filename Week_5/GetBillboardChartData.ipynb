{
 "cells": [
  {
   "cell_type": "code",
   "execution_count": 5,
   "metadata": {},
   "outputs": [],
   "source": [
    "import requests\n",
    "from bs4 import BeautifulSoup as bs"
   ]
  },
  {
   "cell_type": "code",
   "execution_count": 6,
   "metadata": {},
   "outputs": [],
   "source": [
    "url = \"https://www.billboard.com/charts/hot-100\""
   ]
  },
  {
   "cell_type": "code",
   "execution_count": 20,
   "metadata": {},
   "outputs": [],
   "source": [
    "htmlText = requests.get(url).text\n",
    "soupXmlData = bs(htmlText, \"lxml\")"
   ]
  },
  {
   "cell_type": "code",
   "execution_count": 25,
   "metadata": {},
   "outputs": [
    {
     "data": {
      "text/plain": [
       "[<span class=\"chart-element__information__song text--truncate color--primary\">Truth Hurts</span>,\n",
       " <span class=\"chart-element__information__song text--truncate color--primary\">Senorita</span>,\n",
       " <span class=\"chart-element__information__song text--truncate color--primary\">Someone You Loved</span>,\n",
       " <span class=\"chart-element__information__song text--truncate color--primary\">Ran$om</span>,\n",
       " <span class=\"chart-element__information__song text--truncate color--primary\">No Guidance</span>,\n",
       " <span class=\"chart-element__information__song text--truncate color--primary\">Panini</span>,\n",
       " <span class=\"chart-element__information__song text--truncate color--primary\">Bad Guy</span>,\n",
       " <span class=\"chart-element__information__song text--truncate color--primary\">Circles</span>,\n",
       " <span class=\"chart-element__information__song text--truncate color--primary\">Goodbyes</span>,\n",
       " <span class=\"chart-element__information__song text--truncate color--primary\">Old Town Road</span>]"
      ]
     },
     "execution_count": 25,
     "metadata": {},
     "output_type": "execute_result"
    }
   ],
   "source": [
    "songNames = soupXmlData.select(\"span.chart-element__information__song\")\n",
    "songNames[0:10]"
   ]
  },
  {
   "cell_type": "code",
   "execution_count": 29,
   "metadata": {},
   "outputs": [
    {
     "name": "stdout",
     "output_type": "stream",
     "text": [
      "Truth Hurts\n",
      "Senorita\n",
      "Someone You Loved\n",
      "Ran$om\n",
      "No Guidance\n",
      "Panini\n",
      "Bad Guy\n",
      "Circles\n",
      "Goodbyes\n",
      "Old Town Road\n"
     ]
    }
   ],
   "source": [
    "for songName in songNames[0:10]:\n",
    "    print(songName.get_text())"
   ]
  },
  {
   "cell_type": "code",
   "execution_count": null,
   "metadata": {},
   "outputs": [],
   "source": []
  }
 ],
 "metadata": {
  "kernelspec": {
   "display_name": "Python 3",
   "language": "python",
   "name": "python3"
  },
  "language_info": {
   "codemirror_mode": {
    "name": "ipython",
    "version": 3
   },
   "file_extension": ".py",
   "mimetype": "text/x-python",
   "name": "python",
   "nbconvert_exporter": "python",
   "pygments_lexer": "ipython3",
   "version": "3.7.3"
  }
 },
 "nbformat": 4,
 "nbformat_minor": 2
}
