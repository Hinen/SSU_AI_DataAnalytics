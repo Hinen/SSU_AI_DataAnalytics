{
 "cells": [
  {
   "cell_type": "code",
   "execution_count": 1,
   "metadata": {},
   "outputs": [],
   "source": [
    "from bs4 import BeautifulSoup"
   ]
  },
  {
   "cell_type": "code",
   "execution_count": 3,
   "metadata": {},
   "outputs": [],
   "source": [
    "code = \"\"\"\n",
    "<!doctype html> \n",
    "<html> \n",
    "    <head> \n",
    "    <title>HTML 예제</title> \n",
    "    </head> \n",
    "<body> \n",
    "     <h1>학생 개인 정보</h1> \n",
    "     <p class=\"male\", id=\"name\">이름 : 홍길동</p> \n",
    "     <p id=\"school\">학교 : 숭실대학교</p> \n",
    "     <p id=\"major\">학과 : 수학과</p>     \n",
    "\n",
    "     <p class=\"female\", id=\"name\">이름 : 이순신</p> \n",
    "     <p id=\"school\">학교 : 숭실대학교</p> \n",
    "     <p id=\"major\">학과 : 컴퓨터학부</p> \n",
    "\n",
    "     <p class=\"male\", id=\"name\">이름 : 강감찬</p> \n",
    "     <p id=\"school\">학교 : 숭실대학교</p> \n",
    "     <p id=\"major\">학과 : 경제학과</p> \n",
    "    \n",
    "</body> \n",
    "</html> \n",
    "\"\"\""
   ]
  },
  {
   "cell_type": "code",
   "execution_count": 5,
   "metadata": {},
   "outputs": [
    {
     "data": {
      "text/plain": [
       "<!DOCTYPE html>\n",
       "<html>\n",
       "<head>\n",
       "<title>HTML 예제</title>\n",
       "</head>\n",
       "<body>\n",
       "<h1>학생 개인 정보</h1>\n",
       "<p class=\"male\" id=\"name\">이름 : 홍길동</p>\n",
       "<p id=\"school\">학교 : 숭실대학교</p>\n",
       "<p id=\"major\">학과 : 수학과</p>\n",
       "<p class=\"female\" id=\"name\">이름 : 이순신</p>\n",
       "<p id=\"school\">학교 : 숭실대학교</p>\n",
       "<p id=\"major\">학과 : 컴퓨터학부</p>\n",
       "<p class=\"male\" id=\"name\">이름 : 강감찬</p>\n",
       "<p id=\"school\">학교 : 숭실대학교</p>\n",
       "<p id=\"major\">학과 : 경제학과</p>\n",
       "</body>\n",
       "</html>"
      ]
     },
     "execution_count": 5,
     "metadata": {},
     "output_type": "execute_result"
    }
   ],
   "source": [
    "s = BeautifulSoup(code, \"lxml\")\n",
    "s"
   ]
  },
  {
   "cell_type": "code",
   "execution_count": 11,
   "metadata": {},
   "outputs": [
    {
     "data": {
      "text/plain": [
       "<p class=\"male\" id=\"name\">이름 : 홍길동</p>"
      ]
     },
     "execution_count": 11,
     "metadata": {},
     "output_type": "execute_result"
    }
   ],
   "source": [
    "s.find(\"p\") # 해당 태그의 최상위 데이터 1개"
   ]
  },
  {
   "cell_type": "code",
   "execution_count": 12,
   "metadata": {},
   "outputs": [
    {
     "data": {
      "text/plain": [
       "[<p class=\"male\" id=\"name\">이름 : 홍길동</p>,\n",
       " <p id=\"school\">학교 : 숭실대학교</p>,\n",
       " <p id=\"major\">학과 : 수학과</p>,\n",
       " <p class=\"female\" id=\"name\">이름 : 이순신</p>,\n",
       " <p id=\"school\">학교 : 숭실대학교</p>,\n",
       " <p id=\"major\">학과 : 컴퓨터학부</p>,\n",
       " <p class=\"male\" id=\"name\">이름 : 강감찬</p>,\n",
       " <p id=\"school\">학교 : 숭실대학교</p>,\n",
       " <p id=\"major\">학과 : 경제학과</p>]"
      ]
     },
     "execution_count": 12,
     "metadata": {},
     "output_type": "execute_result"
    }
   ],
   "source": [
    "s.find_all(\"p\")"
   ]
  },
  {
   "cell_type": "code",
   "execution_count": 25,
   "metadata": {},
   "outputs": [
    {
     "name": "stdout",
     "output_type": "stream",
     "text": [
      "<class 'bs4.element.ResultSet'>\n"
     ]
    },
    {
     "data": {
      "text/plain": [
       "[<p class=\"male\" id=\"name\">이름 : 홍길동</p>,\n",
       " <p class=\"male\" id=\"name\">이름 : 강감찬</p>]"
      ]
     },
     "execution_count": 25,
     "metadata": {},
     "output_type": "execute_result"
    }
   ],
   "source": [
    "findDataSet = s.find_all(\"p\", {\"class\" : \"male\", \"id\" : \"name\"})\n",
    "print(type(findDataSet))\n",
    "findDataSet\n",
    "# 속성을 뒤에 dic로 넘겨주면 속성에 맞는 데이터를 찾음"
   ]
  },
  {
   "cell_type": "code",
   "execution_count": 27,
   "metadata": {},
   "outputs": [
    {
     "name": "stdout",
     "output_type": "stream",
     "text": [
      "이름 : 홍길동\n",
      "이름 : 강감찬\n"
     ]
    }
   ],
   "source": [
    "for data in findDataSet:\n",
    "    print(data.get_text())"
   ]
  },
  {
   "cell_type": "code",
   "execution_count": null,
   "metadata": {},
   "outputs": [],
   "source": []
  }
 ],
 "metadata": {
  "kernelspec": {
   "display_name": "Python 3",
   "language": "python",
   "name": "python3"
  },
  "language_info": {
   "codemirror_mode": {
    "name": "ipython",
    "version": 3
   },
   "file_extension": ".py",
   "mimetype": "text/x-python",
   "name": "python",
   "nbconvert_exporter": "python",
   "pygments_lexer": "ipython3",
   "version": "3.7.3"
  }
 },
 "nbformat": 4,
 "nbformat_minor": 2
}
