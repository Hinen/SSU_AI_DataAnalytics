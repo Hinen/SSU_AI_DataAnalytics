{
 "cells": [
  {
   "cell_type": "code",
   "execution_count": 1,
   "metadata": {},
   "outputs": [],
   "source": [
    "import requests\n",
    "from bs4 import BeautifulSoup as bs"
   ]
  },
  {
   "cell_type": "code",
   "execution_count": 5,
   "metadata": {},
   "outputs": [],
   "source": [
    "url = \"https://iconmonstr.com/\"\n",
    "htmlText = requests.get(url).text"
   ]
  },
  {
   "cell_type": "code",
   "execution_count": 9,
   "metadata": {},
   "outputs": [],
   "source": [
    "soupXmlData = bs(htmlText, \"lxml\")"
   ]
  },
  {
   "cell_type": "code",
   "execution_count": 13,
   "metadata": {},
   "outputs": [
    {
     "data": {
      "text/plain": [
       "[<img class=\"preload\" height=\"1\" src=\"https://cdns.iconmonstr.com/wp-content/assets/preview/2019/240/iconmonstr-bus-1.png\" width=\"1\"/>,\n",
       " <img class=\"preload\" height=\"1\" src=\"https://cdns.iconmonstr.com/wp-content/assets/preview/2019/240/iconmonstr-bus-2.png\" width=\"1\"/>,\n",
       " <img class=\"preload\" height=\"1\" src=\"https://cdns.iconmonstr.com/wp-content/assets/preview/2019/240/iconmonstr-bus-3.png\" width=\"1\"/>,\n",
       " <img class=\"preload\" height=\"1\" src=\"https://cdns.iconmonstr.com/wp-content/assets/preview/2019/240/iconmonstr-bus-4.png\" width=\"1\"/>,\n",
       " <img class=\"preload\" height=\"1\" src=\"https://cdns.iconmonstr.com/wp-content/assets/preview/2019/240/iconmonstr-bus-5.png\" width=\"1\"/>,\n",
       " <img class=\"preload\" height=\"1\" src=\"https://cdns.iconmonstr.com/wp-content/assets/preview/2019/240/iconmonstr-bus-6.png\" width=\"1\"/>,\n",
       " <img class=\"preload\" height=\"1\" src=\"https://cdns.iconmonstr.com/wp-content/assets/preview/2019/240/iconmonstr-bus-7.png\" width=\"1\"/>,\n",
       " <img class=\"preload\" height=\"1\" src=\"https://cdns.iconmonstr.com/wp-content/assets/preview/2019/240/iconmonstr-bus-8.png\" width=\"1\"/>,\n",
       " <img class=\"preload\" height=\"1\" src=\"https://cdns.iconmonstr.com/wp-content/assets/preview/2019/240/iconmonstr-party-1.png\" width=\"1\"/>,\n",
       " <img class=\"preload\" height=\"1\" src=\"https://cdns.iconmonstr.com/wp-content/assets/preview/2019/240/iconmonstr-party-2.png\" width=\"1\"/>]"
      ]
     },
     "execution_count": 13,
     "metadata": {},
     "output_type": "execute_result"
    }
   ],
   "source": [
    "images = soupXmlData.select(\"img.preload\")\n",
    "images[0:10]"
   ]
  },
  {
   "cell_type": "code",
   "execution_count": 18,
   "metadata": {},
   "outputs": [
    {
     "data": {
      "text/plain": [
       "['https://cdns.iconmonstr.com/wp-content/assets/preview/2019/240/iconmonstr-bus-1.png',\n",
       " 'https://cdns.iconmonstr.com/wp-content/assets/preview/2019/240/iconmonstr-bus-2.png',\n",
       " 'https://cdns.iconmonstr.com/wp-content/assets/preview/2019/240/iconmonstr-bus-3.png',\n",
       " 'https://cdns.iconmonstr.com/wp-content/assets/preview/2019/240/iconmonstr-bus-4.png',\n",
       " 'https://cdns.iconmonstr.com/wp-content/assets/preview/2019/240/iconmonstr-bus-5.png',\n",
       " 'https://cdns.iconmonstr.com/wp-content/assets/preview/2019/240/iconmonstr-bus-6.png',\n",
       " 'https://cdns.iconmonstr.com/wp-content/assets/preview/2019/240/iconmonstr-bus-7.png',\n",
       " 'https://cdns.iconmonstr.com/wp-content/assets/preview/2019/240/iconmonstr-bus-8.png',\n",
       " 'https://cdns.iconmonstr.com/wp-content/assets/preview/2019/240/iconmonstr-party-1.png',\n",
       " 'https://cdns.iconmonstr.com/wp-content/assets/preview/2019/240/iconmonstr-party-2.png']"
      ]
     },
     "execution_count": 18,
     "metadata": {},
     "output_type": "execute_result"
    }
   ],
   "source": [
    "srcList = []\n",
    "\n",
    "for imageData in images[0:10]:\n",
    "    srcData = imageData.get(\"src\")\n",
    "    srcList.append(srcData)\n",
    "    \n",
    "srcList"
   ]
  },
  {
   "cell_type": "code",
   "execution_count": 19,
   "metadata": {},
   "outputs": [],
   "source": [
    "import os\n",
    "import urllib"
   ]
  },
  {
   "cell_type": "code",
   "execution_count": 29,
   "metadata": {},
   "outputs": [
    {
     "name": "stdout",
     "output_type": "stream",
     "text": [
      "C:/Users/SSU/Repo/Py/Week_5/download/iconmonstr-bus-1.png\n",
      "C:/Users/SSU/Repo/Py/Week_5/download/iconmonstr-bus-2.png\n",
      "C:/Users/SSU/Repo/Py/Week_5/download/iconmonstr-bus-3.png\n",
      "C:/Users/SSU/Repo/Py/Week_5/download/iconmonstr-bus-4.png\n",
      "C:/Users/SSU/Repo/Py/Week_5/download/iconmonstr-bus-5.png\n",
      "C:/Users/SSU/Repo/Py/Week_5/download/iconmonstr-bus-6.png\n",
      "C:/Users/SSU/Repo/Py/Week_5/download/iconmonstr-bus-7.png\n",
      "C:/Users/SSU/Repo/Py/Week_5/download/iconmonstr-bus-8.png\n",
      "C:/Users/SSU/Repo/Py/Week_5/download/iconmonstr-party-1.png\n",
      "C:/Users/SSU/Repo/Py/Week_5/download/iconmonstr-party-2.png\n"
     ]
    }
   ],
   "source": [
    "path = \"C:/Users/SSU/Repo/Py/Week_5/download\"\n",
    "for url in srcList:\n",
    "    savePath = path + \"/\" + os.path.basename(url)\n",
    "    print(savePath)\n",
    "    urllib.request.urlretrieve(url, savePath)"
   ]
  },
  {
   "cell_type": "code",
   "execution_count": null,
   "metadata": {},
   "outputs": [],
   "source": []
  }
 ],
 "metadata": {
  "kernelspec": {
   "display_name": "Python 3",
   "language": "python",
   "name": "python3"
  },
  "language_info": {
   "codemirror_mode": {
    "name": "ipython",
    "version": 3
   },
   "file_extension": ".py",
   "mimetype": "text/x-python",
   "name": "python",
   "nbconvert_exporter": "python",
   "pygments_lexer": "ipython3",
   "version": "3.7.3"
  }
 },
 "nbformat": 4,
 "nbformat_minor": 2
}
