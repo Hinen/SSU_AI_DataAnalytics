{
 "cells": [
  {
   "cell_type": "code",
   "execution_count": 6,
   "metadata": {},
   "outputs": [],
   "source": [
    "years = [2011, 2012, 2013, 2014, 2015, 2016, 2017]"
   ]
  },
  {
   "cell_type": "code",
   "execution_count": 7,
   "metadata": {},
   "outputs": [
    {
     "name": "stdout",
     "output_type": "stream",
     "text": [
      "[2011, 2012, 2013, 2014, 2015, 2016, 2017, 2018, 2019]\n"
     ]
    }
   ],
   "source": [
    "years.append(2018)\n",
    "years.append(2019)\n",
    "\n",
    "print(years)"
   ]
  },
  {
   "cell_type": "code",
   "execution_count": 11,
   "metadata": {},
   "outputs": [
    {
     "name": "stdout",
     "output_type": "stream",
     "text": [
      "[2017, 2018, 2019]\n"
     ]
    }
   ],
   "source": [
    "from datetime import datetime\n",
    "\n",
    "nowYear = datetime.now().year\n",
    "\n",
    "idx = 0\n",
    "for y in years:\n",
    "    if (y == nowYear - 2):\n",
    "        break\n",
    "    \n",
    "    idx = idx + 1\n",
    "\n",
    "print(years[idx:])\n",
    "    \n",
    "#해당 코드 또한 마찬가지로 최근 3년이므로 2019, 2018, 2017의 데이터를 가져온다.\n",
    "#하지만 내년에 실행시 2020의 데이터는 없으므로 2019와 2018의 데이터만을 가져온다."
   ]
  },
  {
   "cell_type": "code",
   "execution_count": null,
   "metadata": {},
   "outputs": [],
   "source": []
  }
 ],
 "metadata": {
  "kernelspec": {
   "display_name": "Python 2",
   "language": "python",
   "name": "python2"
  },
  "language_info": {
   "codemirror_mode": {
    "name": "ipython",
    "version": 2
   },
   "file_extension": ".py",
   "mimetype": "text/x-python",
   "name": "python",
   "nbconvert_exporter": "python",
   "pygments_lexer": "ipython2",
   "version": "2.7.16"
  }
 },
 "nbformat": 4,
 "nbformat_minor": 2
}
