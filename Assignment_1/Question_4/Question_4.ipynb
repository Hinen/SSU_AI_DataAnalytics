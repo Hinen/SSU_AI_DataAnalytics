{
 "cells": [
  {
   "cell_type": "code",
   "execution_count": 5,
   "metadata": {},
   "outputs": [],
   "source": [
    "import math\n",
    "\n",
    "def GetSin(degree):\n",
    "    if degree == 0:\n",
    "        return 0\n",
    "    elif degree == 30:\n",
    "        return 1 / 2\n",
    "    elif degree == 45:\n",
    "        return 1 / math.sqrt(2)\n",
    "    elif degree == 60:\n",
    "        return math.sqrt(3) / 2\n",
    "    elif degree == 90:\n",
    "        return 1\n",
    "    else:\n",
    "        return -1"
   ]
  },
  {
   "cell_type": "code",
   "execution_count": 14,
   "metadata": {},
   "outputs": [],
   "source": [
    "def PrintSin(degree):\n",
    "    sin = GetSin(degree)\n",
    "    \n",
    "    if (sin == -1):\n",
    "        print(\"올바른 각도 값을 입력하세요.\")\n",
    "    else:\n",
    "        print(\"Sin %d의 값 : %.3f\" % (degree, sin))"
   ]
  },
  {
   "cell_type": "code",
   "execution_count": 15,
   "metadata": {},
   "outputs": [
    {
     "name": "stdout",
     "output_type": "stream",
     "text": [
      "Sin 0의 값 : 0.000\n",
      "Sin 30의 값 : 0.000\n",
      "Sin 45의 값 : 0.707\n",
      "Sin 60의 값 : 0.866\n",
      "Sin 90의 값 : 1.000\n",
      "올바른 각도 값을 입력하세요.\n"
     ]
    }
   ],
   "source": [
    "PrintSin(0)\n",
    "PrintSin(30)\n",
    "PrintSin(45)\n",
    "PrintSin(60)\n",
    "PrintSin(90)\n",
    "PrintSin(1234)"
   ]
  },
  {
   "cell_type": "code",
   "execution_count": null,
   "metadata": {},
   "outputs": [],
   "source": []
  }
 ],
 "metadata": {
  "kernelspec": {
   "display_name": "Python 2",
   "language": "python",
   "name": "python2"
  },
  "language_info": {
   "codemirror_mode": {
    "name": "ipython",
    "version": 2
   },
   "file_extension": ".py",
   "mimetype": "text/x-python",
   "name": "python",
   "nbconvert_exporter": "python",
   "pygments_lexer": "ipython2",
   "version": "2.7.16"
  }
 },
 "nbformat": 4,
 "nbformat_minor": 2
}
