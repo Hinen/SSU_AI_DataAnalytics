{
 "cells": [
  {
   "cell_type": "code",
   "execution_count": 22,
   "metadata": {},
   "outputs": [
    {
     "name": "stdout",
     "output_type": "stream",
     "text": [
      "input str1 : \"SoongSilUniv\"\n",
      "input str2 : \"ParkSuBin\"\n"
     ]
    }
   ],
   "source": [
    "str1 = input(\"input str1 : \")\n",
    "str2 = input(\"input str2 : \")"
   ]
  },
  {
   "cell_type": "code",
   "execution_count": 33,
   "metadata": {},
   "outputs": [
    {
     "name": "stdout",
     "output_type": "stream",
     "text": [
      "['S', 'o', 'g', 'i', 'U', 'i']\n",
      "['a', 'k', 'u', 'i']\n"
     ]
    }
   ],
   "source": [
    "oddStrList = list(str1[0::2])\n",
    "evenStrList = list(str2[1::2])\n",
    "print(oddStrList)\n",
    "print(evenStrList)"
   ]
  },
  {
   "cell_type": "code",
   "execution_count": 34,
   "metadata": {},
   "outputs": [
    {
     "name": "stdout",
     "output_type": "stream",
     "text": [
      "S/o/g/i/U/i/a/k/u/i\n"
     ]
    }
   ],
   "source": [
    "strList = oddStrList + evenStrList\n",
    "newStr = \"/\".join(strList)\n",
    "print(newStr)"
   ]
  },
  {
   "cell_type": "code",
   "execution_count": null,
   "metadata": {},
   "outputs": [],
   "source": []
  }
 ],
 "metadata": {
  "kernelspec": {
   "display_name": "Python 2",
   "language": "python",
   "name": "python2"
  },
  "language_info": {
   "codemirror_mode": {
    "name": "ipython",
    "version": 2
   },
   "file_extension": ".py",
   "mimetype": "text/x-python",
   "name": "python",
   "nbconvert_exporter": "python",
   "pygments_lexer": "ipython2",
   "version": "2.7.16"
  }
 },
 "nbformat": 4,
 "nbformat_minor": 2
}
