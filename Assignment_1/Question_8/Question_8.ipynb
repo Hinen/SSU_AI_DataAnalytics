{
 "cells": [
  {
   "cell_type": "code",
   "execution_count": 11,
   "metadata": {},
   "outputs": [],
   "source": [
    "from datetime import datetime\n",
    "\n",
    "nowYear = datetime.now().year\n",
    "year = [2011, 2012, 2013, 2014, 2015, 2016, 2017, 2018]\n",
    "population = [10000000, 20000000, 30000000, 40000000,\n",
    "              50000000, 60000000, 70000000, 80000000]"
   ]
  },
  {
   "cell_type": "code",
   "execution_count": 30,
   "metadata": {},
   "outputs": [
    {
     "name": "stdout",
     "output_type": "stream",
     "text": [
      "현재 연도 : 2019\n",
      "2016년 인구 : 60000000\n",
      "2017년 인구 : 70000000\n",
      "2018년 인구 : 80000000\n"
     ]
    }
   ],
   "source": [
    "idx = 0\n",
    "for y in year:\n",
    "    if y == nowYear - 3:\n",
    "        break\n",
    "    \n",
    "    idx = idx + 1\n",
    "\n",
    "print(\"현재 연도 : %d\" % nowYear)    \n",
    "for i in range(idx, len(year)):\n",
    "    print(\"%d년 인구 : %d\" % (year[i], population[i]))\n"
   ]
  },
  {
   "cell_type": "code",
   "execution_count": null,
   "metadata": {},
   "outputs": [],
   "source": []
  }
 ],
 "metadata": {
  "kernelspec": {
   "display_name": "Python 2",
   "language": "python",
   "name": "python2"
  },
  "language_info": {
   "codemirror_mode": {
    "name": "ipython",
    "version": 2
   },
   "file_extension": ".py",
   "mimetype": "text/x-python",
   "name": "python",
   "nbconvert_exporter": "python",
   "pygments_lexer": "ipython2",
   "version": "2.7.16"
  }
 },
 "nbformat": 4,
 "nbformat_minor": 2
}
