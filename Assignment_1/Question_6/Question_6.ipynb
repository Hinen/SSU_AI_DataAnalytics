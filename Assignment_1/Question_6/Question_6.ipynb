{
 "cells": [
  {
   "cell_type": "code",
   "execution_count": 37,
   "metadata": {},
   "outputs": [],
   "source": [
    "from datetime import datetime\n",
    "\n",
    "def PrintDateOfBirth(birthStr):\n",
    "    year = 2000 + int(birthStr[0:2])\n",
    "    month = int(birthStr[2:4])\n",
    "    day = int(birthStr[4:6])\n",
    "    age = datetime.now().year - year + 1\n",
    "    \n",
    "    print(\"출생 : %d년\" % year)\n",
    "    print(\"생일 : %d월 %d일\" % (month, day))\n",
    "    print(\"나이 : %d\" % age)\n",
    "    "
   ]
  },
  {
   "cell_type": "code",
   "execution_count": 39,
   "metadata": {},
   "outputs": [
    {
     "name": "stdout",
     "output_type": "stream",
     "text": [
      "출생 : 2000년\n",
      "생일 : 5월 26일\n",
      "나이 : 20\n"
     ]
    }
   ],
   "source": [
    "PrintDateOfBirth(\"000526\")"
   ]
  },
  {
   "cell_type": "code",
   "execution_count": null,
   "metadata": {},
   "outputs": [],
   "source": []
  },
  {
   "cell_type": "code",
   "execution_count": null,
   "metadata": {},
   "outputs": [],
   "source": []
  }
 ],
 "metadata": {
  "kernelspec": {
   "display_name": "Python 2",
   "language": "python",
   "name": "python2"
  },
  "language_info": {
   "codemirror_mode": {
    "name": "ipython",
    "version": 2
   },
   "file_extension": ".py",
   "mimetype": "text/x-python",
   "name": "python",
   "nbconvert_exporter": "python",
   "pygments_lexer": "ipython2",
   "version": "2.7.16"
  }
 },
 "nbformat": 4,
 "nbformat_minor": 2
}
