{
 "cells": [
  {
   "cell_type": "code",
   "execution_count": 8,
   "metadata": {},
   "outputs": [
    {
     "data": {
      "text/html": [
       "<div>\n",
       "<style scoped>\n",
       "    .dataframe tbody tr th:only-of-type {\n",
       "        vertical-align: middle;\n",
       "    }\n",
       "\n",
       "    .dataframe tbody tr th {\n",
       "        vertical-align: top;\n",
       "    }\n",
       "\n",
       "    .dataframe thead th {\n",
       "        text-align: right;\n",
       "    }\n",
       "</style>\n",
       "<table border=\"1\" class=\"dataframe\">\n",
       "  <thead>\n",
       "    <tr style=\"text-align: right;\">\n",
       "      <th></th>\n",
       "      <th>A</th>\n",
       "      <th>B</th>\n",
       "      <th>C</th>\n",
       "      <th>D</th>\n",
       "    </tr>\n",
       "  </thead>\n",
       "  <tbody>\n",
       "    <tr>\n",
       "      <th>2019-09-01</th>\n",
       "      <td>0.557359</td>\n",
       "      <td>0.607663</td>\n",
       "      <td>0.313257</td>\n",
       "      <td>0.744246</td>\n",
       "    </tr>\n",
       "    <tr>\n",
       "      <th>2019-09-02</th>\n",
       "      <td>0.646200</td>\n",
       "      <td>0.639741</td>\n",
       "      <td>0.565818</td>\n",
       "      <td>0.220622</td>\n",
       "    </tr>\n",
       "    <tr>\n",
       "      <th>2019-09-03</th>\n",
       "      <td>0.928645</td>\n",
       "      <td>0.880837</td>\n",
       "      <td>0.503901</td>\n",
       "      <td>0.860473</td>\n",
       "    </tr>\n",
       "    <tr>\n",
       "      <th>2019-09-04</th>\n",
       "      <td>0.489264</td>\n",
       "      <td>0.399641</td>\n",
       "      <td>0.260785</td>\n",
       "      <td>0.261076</td>\n",
       "    </tr>\n",
       "    <tr>\n",
       "      <th>2019-09-05</th>\n",
       "      <td>0.768786</td>\n",
       "      <td>0.660100</td>\n",
       "      <td>0.137383</td>\n",
       "      <td>0.733242</td>\n",
       "    </tr>\n",
       "    <tr>\n",
       "      <th>2019-09-06</th>\n",
       "      <td>0.103126</td>\n",
       "      <td>0.416651</td>\n",
       "      <td>0.233730</td>\n",
       "      <td>0.010362</td>\n",
       "    </tr>\n",
       "  </tbody>\n",
       "</table>\n",
       "</div>"
      ],
      "text/plain": [
       "                   A         B         C         D\n",
       "2019-09-01  0.557359  0.607663  0.313257  0.744246\n",
       "2019-09-02  0.646200  0.639741  0.565818  0.220622\n",
       "2019-09-03  0.928645  0.880837  0.503901  0.860473\n",
       "2019-09-04  0.489264  0.399641  0.260785  0.261076\n",
       "2019-09-05  0.768786  0.660100  0.137383  0.733242\n",
       "2019-09-06  0.103126  0.416651  0.233730  0.010362"
      ]
     },
     "execution_count": 8,
     "metadata": {},
     "output_type": "execute_result"
    }
   ],
   "source": [
    "import pandas as pd\n",
    "import numpy as np\n",
    "\n",
    "arr = np.random.rand(6, 4)\n",
    "dateIndex = pd.date_range('2019-09-01', end = '2019-09-06')\n",
    "colList = ['A', 'B', 'C', 'D']\n",
    "\n",
    "dataFrame = pd.DataFrame(arr, index = dateIndex, columns = colList)\n",
    "dataFrame"
   ]
  }
 ],
 "metadata": {
  "kernelspec": {
   "display_name": "Python 2",
   "language": "python",
   "name": "python2"
  },
  "language_info": {
   "codemirror_mode": {
    "name": "ipython",
    "version": 2
   },
   "file_extension": ".py",
   "mimetype": "text/x-python",
   "name": "python",
   "nbconvert_exporter": "python",
   "pygments_lexer": "ipython2",
   "version": "2.7.16"
  }
 },
 "nbformat": 4,
 "nbformat_minor": 2
}
