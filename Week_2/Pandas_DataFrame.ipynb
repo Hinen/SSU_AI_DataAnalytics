{
 "cells": [
  {
   "cell_type": "code",
   "execution_count": 2,
   "metadata": {},
   "outputs": [
    {
     "name": "stdout",
     "output_type": "stream",
     "text": [
      "          봄     여름     가을     겨울\n",
      "2012  200.1  700.1  300.1  100.1\n",
      "2013  200.2  700.2  300.2  100.2\n",
      "2014  200.3  700.3  300.3  100.3\n",
      "2015  200.4  700.4  300.4  100.4\n",
      "2016  200.5  700.5  300.5  100.5\n"
     ]
    }
   ],
   "source": [
    "import pandas as pd\n",
    "import numpy as np\n",
    "\n",
    "table_data3 = {'봄': [200.1, 200.2, 200.3, 200.4, 200.5],\n",
    "               '여름': [700.1, 700.2, 700.3, 700.4, 700.5],\n",
    "               '가을': [300.1, 300.2, 300.3, 300.4, 300.5],\n",
    "               '겨울': [100.1, 100.2, 100.3, 100.4, 100.5]}\n",
    "\n",
    "index_list = ['2012', '2013', '2014', '2015', '2016']\n",
    "df3 = pd.DataFrame(table_data3, index = index_list)\n",
    "print(df3)"
   ]
  },
  {
   "cell_type": "code",
   "execution_count": 3,
   "metadata": {},
   "outputs": [
    {
     "name": "stdout",
     "output_type": "stream",
     "text": [
      "봄     200.3\n",
      "여름    700.3\n",
      "가을    300.3\n",
      "겨울    100.3\n",
      "dtype: float64\n",
      "2012    325.1\n",
      "2013    325.2\n",
      "2014    325.3\n",
      "2015    325.4\n",
      "2016    325.5\n",
      "dtype: float64\n",
      "봄     0.158114\n",
      "여름    0.158114\n",
      "가을    0.158114\n",
      "겨울    0.158114\n",
      "dtype: float64\n",
      "2012    262.995564\n",
      "2013    262.995564\n",
      "2014    262.995564\n",
      "2015    262.995564\n",
      "2016    262.995564\n",
      "dtype: float64\n"
     ]
    }
   ],
   "source": [
    "print(df3.mean())\n",
    "print(df3.mean(1))\n",
    "print(df3.std())\n",
    "print(df3.std(1))"
   ]
  },
  {
   "cell_type": "code",
   "execution_count": null,
   "metadata": {},
   "outputs": [],
   "source": []
  }
 ],
 "metadata": {
  "kernelspec": {
   "display_name": "Python 3",
   "language": "python",
   "name": "python3"
  },
  "language_info": {
   "codemirror_mode": {
    "name": "ipython",
    "version": 3
   },
   "file_extension": ".py",
   "mimetype": "text/x-python",
   "name": "python",
   "nbconvert_exporter": "python",
   "pygments_lexer": "ipython3",
   "version": "3.7.3"
  }
 },
 "nbformat": 4,
 "nbformat_minor": 2
}
