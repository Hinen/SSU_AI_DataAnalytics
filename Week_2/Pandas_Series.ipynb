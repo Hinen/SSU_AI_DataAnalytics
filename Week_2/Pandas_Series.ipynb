{
 "cells": [
  {
   "cell_type": "code",
   "execution_count": 1,
   "metadata": {
    "scrolled": true
   },
   "outputs": [
    {
     "name": "stdout",
     "output_type": "stream",
     "text": [
      "0    10\n",
      "1    20\n",
      "2    30\n",
      "3    40\n",
      "4    50\n",
      "dtype: int64\n"
     ]
    }
   ],
   "source": [
    "import pandas as pd\n",
    "\n",
    "s1 = pd.Series([10, 20, 30, 40, 50])\n",
    "print(s1)"
   ]
  },
  {
   "cell_type": "code",
   "execution_count": 2,
   "metadata": {},
   "outputs": [
    {
     "name": "stdout",
     "output_type": "stream",
     "text": [
      "RangeIndex(start=0, stop=5, step=1)\n"
     ]
    }
   ],
   "source": [
    "print(s1.index)"
   ]
  },
  {
   "cell_type": "code",
   "execution_count": 4,
   "metadata": {
    "scrolled": true
   },
   "outputs": [
    {
     "name": "stdout",
     "output_type": "stream",
     "text": [
      "[10 20 30 40 50]\n"
     ]
    }
   ],
   "source": [
    "print(s1.values)"
   ]
  },
  {
   "cell_type": "code",
   "execution_count": 15,
   "metadata": {},
   "outputs": [
    {
     "name": "stdout",
     "output_type": "stream",
     "text": [
      "0      a\n",
      "1      b\n",
      "2      c\n",
      "3      1\n",
      "4      2\n",
      "5    3.3\n",
      "6    NaN\n",
      "dtype: object\n"
     ]
    }
   ],
   "source": [
    "import numpy as np\n",
    "\n",
    "s1 = pd.Series(['a', 'b', 'c', 1, 2, 3.3, np.nan])\n",
    "print(s1)"
   ]
  },
  {
   "cell_type": "code",
   "execution_count": 20,
   "metadata": {},
   "outputs": [
    {
     "name": "stdout",
     "output_type": "stream",
     "text": [
      "<class 'float'>\n",
      "<class 'NoneType'>\n",
      "a    1.0\n",
      "b    2.0\n",
      "c    3.0\n",
      "d    4.0\n",
      "e    NaN\n",
      "dtype: float64\n"
     ]
    }
   ],
   "source": [
    "indexA = ['a', 'b', 'c', 'd', 'e']\n",
    "\n",
    "print(type(np.nan))\n",
    "print(type(None))\n",
    "\n",
    "indexSetSeries = pd.Series([1, 2, 3, 4, np.nan], index = indexA)\n",
    "print(indexSetSeries)"
   ]
  },
  {
   "cell_type": "code",
   "execution_count": 21,
   "metadata": {},
   "outputs": [
    {
     "name": "stdout",
     "output_type": "stream",
     "text": [
      "{'a': 1, 'b': 2, 'c': 3, 'd': 4, 'e': nan}\n",
      "a    1.0\n",
      "b    2.0\n",
      "c    3.0\n",
      "d    4.0\n",
      "e    NaN\n",
      "dtype: float64\n"
     ]
    }
   ],
   "source": [
    "dic  = {'a':1, 'b':2, 'c':3, 'd':4, 'e':np.nan}\n",
    "print(dic)\n",
    "\n",
    "dicSeries = pd.Series(dic)\n",
    "print(dicSeries)"
   ]
  },
  {
   "cell_type": "code",
   "execution_count": 22,
   "metadata": {},
   "outputs": [
    {
     "name": "stdout",
     "output_type": "stream",
     "text": [
      "Califonia        NaN\n",
      "Ohio         35000.0\n",
      "Texas        71000.0\n",
      "Oregon       16000.0\n",
      "Utah          5000.0\n",
      "dtype: float64\n"
     ]
    }
   ],
   "source": [
    "# quiz\n",
    "\n",
    "quizDic  = {'Califonia':np.nan, \n",
    "            'Ohio':35000,\n",
    "            'Texas':71000,\n",
    "            'Oregon':16000,\n",
    "            'Utah':5000}\n",
    "            \n",
    "quizSeries = pd.Series(quizDic)\n",
    "print(quizSeries)"
   ]
  },
  {
   "cell_type": "code",
   "execution_count": 26,
   "metadata": {},
   "outputs": [
    {
     "name": "stdout",
     "output_type": "stream",
     "text": [
      "            Park  Su  Bin\n",
      "2019-09-21     1   2    3\n",
      "2019-09-22     4   5    6\n",
      "2019-09-23     7   8    9\n",
      "2019-09-24    10  11   12\n",
      "DatetimeIndex(['2019-09-21', '2019-09-22', '2019-09-23', '2019-09-24'], dtype='datetime64[ns]', freq='D')\n",
      "[[ 1  2  3]\n",
      " [ 4  5  6]\n",
      " [ 7  8  9]\n",
      " [10 11 12]]\n",
      "Index(['Park', 'Su', 'Bin'], dtype='object')\n"
     ]
    }
   ],
   "source": [
    "dataArray = np.array([[1, 2, 3], [4, 5, 6], [7, 8, 9], [10, 11, 12]])\n",
    "indexDataArray = pd.date_range('2019-09-21', end = '2019-09-24')\n",
    "#indexDataArray = pd.date_range('2019-09-21', periods = 4)\n",
    "colList = ['Park', 'Su', 'Bin']\n",
    "\n",
    "dataFrame = pd.DataFrame(dataArray, index = indexDataArray, columns=colList)\n",
    "print(dataFrame)"
   ]
  },
  {
   "cell_type": "code",
   "execution_count": 30,
   "metadata": {},
   "outputs": [
    {
     "name": "stdout",
     "output_type": "stream",
     "text": [
      "     연도  지사  고객 수\n",
      "0  2015  한국   200\n",
      "1  2016  미국   300\n",
      "2  2017  일본   400\n",
      "3  2018  영국   500\n",
      "4  2019  중국   600\n",
      "   지사  고객 수    연도\n",
      "0  한국   200  2015\n",
      "1  미국   300  2016\n",
      "2  일본   400  2017\n",
      "3  영국   500  2018\n",
      "4  중국   600  2019\n",
      "RangeIndex(start=0, stop=5, step=1)\n",
      "[['한국' 200 2015]\n",
      " ['미국' 300 2016]\n",
      " ['일본' 400 2017]\n",
      " ['영국' 500 2018]\n",
      " ['중국' 600 2019]]\n",
      "Index(['지사', '고객 수', '연도'], dtype='object')\n"
     ]
    }
   ],
   "source": [
    "dic = {'연도' : [2015, 2016, 2017, 2018, 2019],\n",
    "        '지사' : ['한국', '미국', '일본', '영국', '중국'],\n",
    "        '고객 수' : [200, 300, 400, 500, 600]}\n",
    "\n",
    "dataFrame = pd.DataFrame(dic)\n",
    "print(dataFrame)\n",
    "\n",
    "dataFrame = pd.DataFrame(dic, columns=['지사', '고객 수', '연도'])\n",
    "print(dataFrame)\n",
    "\n",
    "print(dataFrame.index)\n",
    "print(dataFrame.values)\n",
    "print(dataFrame.columns)"
   ]
  },
  {
   "cell_type": "code",
   "execution_count": 45,
   "metadata": {},
   "outputs": [
    {
     "name": "stdout",
     "output_type": "stream",
     "text": [
      "                   A         B         C         D\n",
      "2019-09-01  0.906181  0.676051  0.489491  0.827719\n",
      "2019-09-02  0.033470  0.456616  0.889250  0.785166\n",
      "2019-09-03  0.341686  0.112724  0.174646  0.546935\n",
      "2019-09-04  0.189338  0.895318  0.889775  0.527044\n",
      "2019-09-05  0.266660  0.611652  0.753439  0.822646\n",
      "2019-09-06  0.134236  0.447437  0.290816  0.875909\n"
     ]
    }
   ],
   "source": [
    "#quiz\n",
    "\n",
    "arr = np.random.rand(6, 4)\n",
    "dateIndex = pd.date_range('2019-09-01', end = '2019-09-06')\n",
    "colList = ['A', 'B', 'C', 'D']\n",
    "\n",
    "dataFrame = pd.DataFrame(arr, index = dateIndex, columns = colList)\n",
    "print(dataFrame)"
   ]
  },
  {
   "cell_type": "code",
   "execution_count": null,
   "metadata": {},
   "outputs": [],
   "source": []
  }
 ],
 "metadata": {
  "kernelspec": {
   "display_name": "Python 3",
   "language": "python",
   "name": "python3"
  },
  "language_info": {
   "codemirror_mode": {
    "name": "ipython",
    "version": 3
   },
   "file_extension": ".py",
   "mimetype": "text/x-python",
   "name": "python",
   "nbconvert_exporter": "python",
   "pygments_lexer": "ipython3",
   "version": "3.7.3"
  }
 },
 "nbformat": 4,
 "nbformat_minor": 2
}
