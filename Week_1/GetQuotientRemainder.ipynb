{
 "cells": [
  {
   "cell_type": "code",
   "execution_count": 1,
   "metadata": {},
   "outputs": [
    {
     "name": "stdout",
     "output_type": "stream",
     "text": [
      "Writing GetQuotientRemainder.py\n"
     ]
    }
   ],
   "source": [
    "%%writefile GetQuotientRemainder.py\n",
    "\n",
    "n1 = int(input(\"값 1을 입력하세요 : \"))\n",
    "n2 = int(input(\"값 2을 입력하세요 : \"))\n",
    "\n",
    "def getQuotientRemainder(a, b):\n",
    "    return a // b, a % b\n",
    "\n",
    "Q, R = getQuotientRemainder(n1, n2)\n",
    "print(\"몫 : %d, 나머지 : %d\" % (Q, R))"
   ]
  },
  {
   "cell_type": "code",
   "execution_count": 2,
   "metadata": {},
   "outputs": [
    {
     "name": "stdout",
     "output_type": "stream",
     "text": [
      "값 1을 입력하세요 : 10\n",
      "값 2을 입력하세요 : 3\n",
      "몫 : 3, 나머지 : 1\n"
     ]
    }
   ],
   "source": [
    "%run GetQuotientRemainder.py"
   ]
  },
  {
   "cell_type": "code",
   "execution_count": null,
   "metadata": {},
   "outputs": [],
   "source": []
  }
 ],
 "metadata": {
  "kernelspec": {
   "display_name": "Python 3",
   "language": "python",
   "name": "python3"
  },
  "language_info": {
   "codemirror_mode": {
    "name": "ipython",
    "version": 3
   },
   "file_extension": ".py",
   "mimetype": "text/x-python",
   "name": "python",
   "nbconvert_exporter": "python",
   "pygments_lexer": "ipython3",
   "version": "3.7.3"
  }
 },
 "nbformat": 4,
 "nbformat_minor": 2
}
